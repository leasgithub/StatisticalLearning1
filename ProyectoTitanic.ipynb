{
 "cells": [
  {
   "cell_type": "markdown",
   "id": "ambient-setup",
   "metadata": {},
   "source": [
    "# Proyecto Final Statistical Learning 1\n",
    "## Pronóstico de sobrevivencia al hundimiento del Titanic"
   ]
  },
  {
   "cell_type": "markdown",
   "id": "surrounded-proposition",
   "metadata": {},
   "source": [
    "### Parte 1 - Entrenamiento, Validación y Selección"
   ]
  },
  {
   "cell_type": "code",
   "execution_count": 1,
   "id": "southern-observer",
   "metadata": {},
   "outputs": [],
   "source": [
    "import tensorflow as tf\n",
    "from tensorflow import keras\n",
    "\n",
    "\n",
    "import numpy as np\n",
    "import pandas as pd\n",
    "import matplotlib.pyplot as plt\n",
    "import warnings\n",
    "import tensorboard_logger as tl\n",
    "\n",
    "from sklearn.preprocessing import OneHotEncoder\n",
    "from sklearn.preprocessing import normalize\n",
    "from sklearn.preprocessing import scale\n",
    "\n",
    "#from sklearn.linear_model import LinearRegression\n",
    "from sklearn.tree import DecisionTreeClassifier\n",
    "from sklearn import svm\n",
    "\n",
    "from sklearn.model_selection import train_test_split\n",
    "from sklearn.metrics import classification_report\n",
    "from sklearn.metrics import precision_recall_fscore_support\n",
    "from joblib import dump\n",
    "#import datetime\n",
    "from tensorboard_logger import configure, log_value\n",
    "\n",
    "import datetime, os\n",
    "import scipy\n",
    "import seaborn as sns\n",
    "#%load_ext tensorboard"
   ]
  },
  {
   "cell_type": "code",
   "execution_count": 2,
   "id": "varying-right",
   "metadata": {},
   "outputs": [],
   "source": [
    "#pip install tensorboard_logger"
   ]
  },
  {
   "cell_type": "code",
   "execution_count": 3,
   "id": "bored-shannon",
   "metadata": {},
   "outputs": [
    {
     "name": "stdout",
     "output_type": "stream",
     "text": [
      "WARNING:tensorflow:From C:\\Users\\luise\\anaconda3\\envs\\py_galileo_2021\\lib\\site-packages\\tensorflow\\python\\compat\\v2_compat.py:96: disable_resource_variables (from tensorflow.python.ops.variable_scope) is deprecated and will be removed in a future version.\n",
      "Instructions for updating:\n",
      "non-resource variables are not supported in the long term\n",
      "Enabled compatitility to tf1.x\n"
     ]
    }
   ],
   "source": [
    "if tf.__version__.startswith(\"2.\"):\n",
    "  import tensorflow.compat.v1 as tf\n",
    "  tf.compat.v1.disable_v2_behavior()\n",
    "  tf.compat.v1.disable_eager_execution()\n",
    "  print(\"Enabled compatitility to tf1.x\")"
   ]
  },
  {
   "cell_type": "markdown",
   "id": "nutritional-asset",
   "metadata": {},
   "source": [
    "## Carga del dataset"
   ]
  },
  {
   "cell_type": "code",
   "execution_count": 4,
   "id": "funny-viewer",
   "metadata": {},
   "outputs": [],
   "source": [
    "data = pd.read_csv('data_titanic_proyecto.csv')"
   ]
  },
  {
   "cell_type": "markdown",
   "id": "protective-syracuse",
   "metadata": {},
   "source": [
    "## Análisis Exploratorio"
   ]
  },
  {
   "cell_type": "code",
   "execution_count": 5,
   "id": "infectious-editor",
   "metadata": {},
   "outputs": [
    {
     "data": {
      "text/html": [
       "<div>\n",
       "<style scoped>\n",
       "    .dataframe tbody tr th:only-of-type {\n",
       "        vertical-align: middle;\n",
       "    }\n",
       "\n",
       "    .dataframe tbody tr th {\n",
       "        vertical-align: top;\n",
       "    }\n",
       "\n",
       "    .dataframe thead th {\n",
       "        text-align: right;\n",
       "    }\n",
       "</style>\n",
       "<table border=\"1\" class=\"dataframe\">\n",
       "  <thead>\n",
       "    <tr style=\"text-align: right;\">\n",
       "      <th></th>\n",
       "      <th>PassengerId</th>\n",
       "      <th>Name</th>\n",
       "      <th>Age</th>\n",
       "      <th>SibSp</th>\n",
       "      <th>Parch</th>\n",
       "      <th>Ticket</th>\n",
       "      <th>Fare</th>\n",
       "      <th>Cabin</th>\n",
       "      <th>Embarked</th>\n",
       "      <th>passenger_class</th>\n",
       "      <th>passenger_sex</th>\n",
       "      <th>passenger_survived</th>\n",
       "    </tr>\n",
       "  </thead>\n",
       "  <tbody>\n",
       "    <tr>\n",
       "      <th>0</th>\n",
       "      <td>1</td>\n",
       "      <td>Braund, Mr. Owen Harris</td>\n",
       "      <td>22.0</td>\n",
       "      <td>1</td>\n",
       "      <td>0</td>\n",
       "      <td>A/5 21171</td>\n",
       "      <td>7.2500</td>\n",
       "      <td>NaN</td>\n",
       "      <td>S</td>\n",
       "      <td>Lower</td>\n",
       "      <td>M</td>\n",
       "      <td>N</td>\n",
       "    </tr>\n",
       "    <tr>\n",
       "      <th>1</th>\n",
       "      <td>2</td>\n",
       "      <td>Cumings, Mrs. John Bradley (Florence Briggs Th...</td>\n",
       "      <td>38.0</td>\n",
       "      <td>1</td>\n",
       "      <td>0</td>\n",
       "      <td>PC 17599</td>\n",
       "      <td>71.2833</td>\n",
       "      <td>C85</td>\n",
       "      <td>C</td>\n",
       "      <td>Upper</td>\n",
       "      <td>F</td>\n",
       "      <td>Y</td>\n",
       "    </tr>\n",
       "    <tr>\n",
       "      <th>2</th>\n",
       "      <td>3</td>\n",
       "      <td>Heikkinen, Miss. Laina</td>\n",
       "      <td>26.0</td>\n",
       "      <td>0</td>\n",
       "      <td>0</td>\n",
       "      <td>STON/O2. 3101282</td>\n",
       "      <td>7.9250</td>\n",
       "      <td>NaN</td>\n",
       "      <td>S</td>\n",
       "      <td>Lower</td>\n",
       "      <td>F</td>\n",
       "      <td>Y</td>\n",
       "    </tr>\n",
       "    <tr>\n",
       "      <th>3</th>\n",
       "      <td>4</td>\n",
       "      <td>Futrelle, Mrs. Jacques Heath (Lily May Peel)</td>\n",
       "      <td>35.0</td>\n",
       "      <td>1</td>\n",
       "      <td>0</td>\n",
       "      <td>113803</td>\n",
       "      <td>53.1000</td>\n",
       "      <td>C123</td>\n",
       "      <td>S</td>\n",
       "      <td>Upper</td>\n",
       "      <td>F</td>\n",
       "      <td>Y</td>\n",
       "    </tr>\n",
       "    <tr>\n",
       "      <th>4</th>\n",
       "      <td>5</td>\n",
       "      <td>Allen, Mr. William Henry</td>\n",
       "      <td>35.0</td>\n",
       "      <td>0</td>\n",
       "      <td>0</td>\n",
       "      <td>373450</td>\n",
       "      <td>8.0500</td>\n",
       "      <td>NaN</td>\n",
       "      <td>S</td>\n",
       "      <td>Lower</td>\n",
       "      <td>M</td>\n",
       "      <td>N</td>\n",
       "    </tr>\n",
       "    <tr>\n",
       "      <th>5</th>\n",
       "      <td>6</td>\n",
       "      <td>Moran, Mr. James</td>\n",
       "      <td>NaN</td>\n",
       "      <td>0</td>\n",
       "      <td>0</td>\n",
       "      <td>330877</td>\n",
       "      <td>8.4583</td>\n",
       "      <td>NaN</td>\n",
       "      <td>Q</td>\n",
       "      <td>Lower</td>\n",
       "      <td>M</td>\n",
       "      <td>N</td>\n",
       "    </tr>\n",
       "    <tr>\n",
       "      <th>6</th>\n",
       "      <td>7</td>\n",
       "      <td>McCarthy, Mr. Timothy J</td>\n",
       "      <td>54.0</td>\n",
       "      <td>0</td>\n",
       "      <td>0</td>\n",
       "      <td>17463</td>\n",
       "      <td>51.8625</td>\n",
       "      <td>E46</td>\n",
       "      <td>S</td>\n",
       "      <td>Upper</td>\n",
       "      <td>M</td>\n",
       "      <td>N</td>\n",
       "    </tr>\n",
       "    <tr>\n",
       "      <th>7</th>\n",
       "      <td>8</td>\n",
       "      <td>Palsson, Master. Gosta Leonard</td>\n",
       "      <td>2.0</td>\n",
       "      <td>3</td>\n",
       "      <td>1</td>\n",
       "      <td>349909</td>\n",
       "      <td>21.0750</td>\n",
       "      <td>NaN</td>\n",
       "      <td>S</td>\n",
       "      <td>Lower</td>\n",
       "      <td>M</td>\n",
       "      <td>N</td>\n",
       "    </tr>\n",
       "    <tr>\n",
       "      <th>8</th>\n",
       "      <td>9</td>\n",
       "      <td>Johnson, Mrs. Oscar W (Elisabeth Vilhelmina Berg)</td>\n",
       "      <td>27.0</td>\n",
       "      <td>0</td>\n",
       "      <td>2</td>\n",
       "      <td>347742</td>\n",
       "      <td>11.1333</td>\n",
       "      <td>NaN</td>\n",
       "      <td>S</td>\n",
       "      <td>Lower</td>\n",
       "      <td>F</td>\n",
       "      <td>Y</td>\n",
       "    </tr>\n",
       "    <tr>\n",
       "      <th>9</th>\n",
       "      <td>10</td>\n",
       "      <td>Nasser, Mrs. Nicholas (Adele Achem)</td>\n",
       "      <td>14.0</td>\n",
       "      <td>1</td>\n",
       "      <td>0</td>\n",
       "      <td>237736</td>\n",
       "      <td>30.0708</td>\n",
       "      <td>NaN</td>\n",
       "      <td>C</td>\n",
       "      <td>Middle</td>\n",
       "      <td>F</td>\n",
       "      <td>Y</td>\n",
       "    </tr>\n",
       "  </tbody>\n",
       "</table>\n",
       "</div>"
      ],
      "text/plain": [
       "   PassengerId                                               Name   Age  \\\n",
       "0            1                            Braund, Mr. Owen Harris  22.0   \n",
       "1            2  Cumings, Mrs. John Bradley (Florence Briggs Th...  38.0   \n",
       "2            3                             Heikkinen, Miss. Laina  26.0   \n",
       "3            4       Futrelle, Mrs. Jacques Heath (Lily May Peel)  35.0   \n",
       "4            5                           Allen, Mr. William Henry  35.0   \n",
       "5            6                                   Moran, Mr. James   NaN   \n",
       "6            7                            McCarthy, Mr. Timothy J  54.0   \n",
       "7            8                     Palsson, Master. Gosta Leonard   2.0   \n",
       "8            9  Johnson, Mrs. Oscar W (Elisabeth Vilhelmina Berg)  27.0   \n",
       "9           10                Nasser, Mrs. Nicholas (Adele Achem)  14.0   \n",
       "\n",
       "   SibSp  Parch            Ticket     Fare Cabin Embarked passenger_class  \\\n",
       "0      1      0         A/5 21171   7.2500   NaN        S           Lower   \n",
       "1      1      0          PC 17599  71.2833   C85        C           Upper   \n",
       "2      0      0  STON/O2. 3101282   7.9250   NaN        S           Lower   \n",
       "3      1      0            113803  53.1000  C123        S           Upper   \n",
       "4      0      0            373450   8.0500   NaN        S           Lower   \n",
       "5      0      0            330877   8.4583   NaN        Q           Lower   \n",
       "6      0      0             17463  51.8625   E46        S           Upper   \n",
       "7      3      1            349909  21.0750   NaN        S           Lower   \n",
       "8      0      2            347742  11.1333   NaN        S           Lower   \n",
       "9      1      0            237736  30.0708   NaN        C          Middle   \n",
       "\n",
       "  passenger_sex passenger_survived  \n",
       "0             M                  N  \n",
       "1             F                  Y  \n",
       "2             F                  Y  \n",
       "3             F                  Y  \n",
       "4             M                  N  \n",
       "5             M                  N  \n",
       "6             M                  N  \n",
       "7             M                  N  \n",
       "8             F                  Y  \n",
       "9             F                  Y  "
      ]
     },
     "execution_count": 5,
     "metadata": {},
     "output_type": "execute_result"
    }
   ],
   "source": [
    "data.head(10)"
   ]
  },
  {
   "cell_type": "code",
   "execution_count": 6,
   "id": "hollywood-summary",
   "metadata": {},
   "outputs": [
    {
     "data": {
      "text/html": [
       "<div>\n",
       "<style scoped>\n",
       "    .dataframe tbody tr th:only-of-type {\n",
       "        vertical-align: middle;\n",
       "    }\n",
       "\n",
       "    .dataframe tbody tr th {\n",
       "        vertical-align: top;\n",
       "    }\n",
       "\n",
       "    .dataframe thead th {\n",
       "        text-align: right;\n",
       "    }\n",
       "</style>\n",
       "<table border=\"1\" class=\"dataframe\">\n",
       "  <thead>\n",
       "    <tr style=\"text-align: right;\">\n",
       "      <th></th>\n",
       "      <th>PassengerId</th>\n",
       "      <th>Age</th>\n",
       "      <th>SibSp</th>\n",
       "      <th>Parch</th>\n",
       "      <th>Fare</th>\n",
       "    </tr>\n",
       "  </thead>\n",
       "  <tbody>\n",
       "    <tr>\n",
       "      <th>count</th>\n",
       "      <td>891.000000</td>\n",
       "      <td>714.000000</td>\n",
       "      <td>891.000000</td>\n",
       "      <td>891.000000</td>\n",
       "      <td>891.000000</td>\n",
       "    </tr>\n",
       "    <tr>\n",
       "      <th>mean</th>\n",
       "      <td>446.000000</td>\n",
       "      <td>29.699118</td>\n",
       "      <td>0.523008</td>\n",
       "      <td>0.381594</td>\n",
       "      <td>32.204208</td>\n",
       "    </tr>\n",
       "    <tr>\n",
       "      <th>std</th>\n",
       "      <td>257.353842</td>\n",
       "      <td>14.526497</td>\n",
       "      <td>1.102743</td>\n",
       "      <td>0.806057</td>\n",
       "      <td>49.693429</td>\n",
       "    </tr>\n",
       "    <tr>\n",
       "      <th>min</th>\n",
       "      <td>1.000000</td>\n",
       "      <td>0.420000</td>\n",
       "      <td>0.000000</td>\n",
       "      <td>0.000000</td>\n",
       "      <td>0.000000</td>\n",
       "    </tr>\n",
       "    <tr>\n",
       "      <th>25%</th>\n",
       "      <td>223.500000</td>\n",
       "      <td>20.125000</td>\n",
       "      <td>0.000000</td>\n",
       "      <td>0.000000</td>\n",
       "      <td>7.910400</td>\n",
       "    </tr>\n",
       "    <tr>\n",
       "      <th>50%</th>\n",
       "      <td>446.000000</td>\n",
       "      <td>28.000000</td>\n",
       "      <td>0.000000</td>\n",
       "      <td>0.000000</td>\n",
       "      <td>14.454200</td>\n",
       "    </tr>\n",
       "    <tr>\n",
       "      <th>75%</th>\n",
       "      <td>668.500000</td>\n",
       "      <td>38.000000</td>\n",
       "      <td>1.000000</td>\n",
       "      <td>0.000000</td>\n",
       "      <td>31.000000</td>\n",
       "    </tr>\n",
       "    <tr>\n",
       "      <th>max</th>\n",
       "      <td>891.000000</td>\n",
       "      <td>80.000000</td>\n",
       "      <td>8.000000</td>\n",
       "      <td>6.000000</td>\n",
       "      <td>512.329200</td>\n",
       "    </tr>\n",
       "  </tbody>\n",
       "</table>\n",
       "</div>"
      ],
      "text/plain": [
       "       PassengerId         Age       SibSp       Parch        Fare\n",
       "count   891.000000  714.000000  891.000000  891.000000  891.000000\n",
       "mean    446.000000   29.699118    0.523008    0.381594   32.204208\n",
       "std     257.353842   14.526497    1.102743    0.806057   49.693429\n",
       "min       1.000000    0.420000    0.000000    0.000000    0.000000\n",
       "25%     223.500000   20.125000    0.000000    0.000000    7.910400\n",
       "50%     446.000000   28.000000    0.000000    0.000000   14.454200\n",
       "75%     668.500000   38.000000    1.000000    0.000000   31.000000\n",
       "max     891.000000   80.000000    8.000000    6.000000  512.329200"
      ]
     },
     "execution_count": 6,
     "metadata": {},
     "output_type": "execute_result"
    }
   ],
   "source": [
    "data.describe()"
   ]
  },
  {
   "cell_type": "markdown",
   "id": "intensive-handling",
   "metadata": {},
   "source": [
    "### Columnas con datos incompletos"
   ]
  },
  {
   "cell_type": "code",
   "execution_count": 7,
   "id": "banner-stick",
   "metadata": {},
   "outputs": [
    {
     "data": {
      "text/html": [
       "<div>\n",
       "<style scoped>\n",
       "    .dataframe tbody tr th:only-of-type {\n",
       "        vertical-align: middle;\n",
       "    }\n",
       "\n",
       "    .dataframe tbody tr th {\n",
       "        vertical-align: top;\n",
       "    }\n",
       "\n",
       "    .dataframe thead th {\n",
       "        text-align: right;\n",
       "    }\n",
       "</style>\n",
       "<table border=\"1\" class=\"dataframe\">\n",
       "  <thead>\n",
       "    <tr style=\"text-align: right;\">\n",
       "      <th></th>\n",
       "      <th>Total</th>\n",
       "      <th>%</th>\n",
       "    </tr>\n",
       "  </thead>\n",
       "  <tbody>\n",
       "    <tr>\n",
       "      <th>Cabin</th>\n",
       "      <td>687</td>\n",
       "      <td>77.1</td>\n",
       "    </tr>\n",
       "    <tr>\n",
       "      <th>Age</th>\n",
       "      <td>177</td>\n",
       "      <td>19.9</td>\n",
       "    </tr>\n",
       "    <tr>\n",
       "      <th>Embarked</th>\n",
       "      <td>2</td>\n",
       "      <td>0.2</td>\n",
       "    </tr>\n",
       "    <tr>\n",
       "      <th>passenger_survived</th>\n",
       "      <td>0</td>\n",
       "      <td>0.0</td>\n",
       "    </tr>\n",
       "    <tr>\n",
       "      <th>passenger_sex</th>\n",
       "      <td>0</td>\n",
       "      <td>0.0</td>\n",
       "    </tr>\n",
       "    <tr>\n",
       "      <th>passenger_class</th>\n",
       "      <td>0</td>\n",
       "      <td>0.0</td>\n",
       "    </tr>\n",
       "    <tr>\n",
       "      <th>Fare</th>\n",
       "      <td>0</td>\n",
       "      <td>0.0</td>\n",
       "    </tr>\n",
       "    <tr>\n",
       "      <th>Ticket</th>\n",
       "      <td>0</td>\n",
       "      <td>0.0</td>\n",
       "    </tr>\n",
       "  </tbody>\n",
       "</table>\n",
       "</div>"
      ],
      "text/plain": [
       "                    Total     %\n",
       "Cabin                 687  77.1\n",
       "Age                   177  19.9\n",
       "Embarked                2   0.2\n",
       "passenger_survived      0   0.0\n",
       "passenger_sex           0   0.0\n",
       "passenger_class         0   0.0\n",
       "Fare                    0   0.0\n",
       "Ticket                  0   0.0"
      ]
     },
     "execution_count": 7,
     "metadata": {},
     "output_type": "execute_result"
    }
   ],
   "source": [
    "total = data.isnull().sum().sort_values(ascending=False)\n",
    "percent_1 = data.isnull().sum()/data.isnull().count()*100\n",
    "percent_2 = (round(percent_1, 1)).sort_values(ascending=False)\n",
    "missing_data = pd.concat([total, percent_2], axis=1, keys=['Total', '%'])\n",
    "missing_data.head(8)"
   ]
  },
  {
   "cell_type": "code",
   "execution_count": 8,
   "id": "editorial-amino",
   "metadata": {},
   "outputs": [
    {
     "name": "stdout",
     "output_type": "stream",
     "text": [
      "<class 'pandas.core.frame.DataFrame'>\n",
      "RangeIndex: 891 entries, 0 to 890\n",
      "Data columns (total 12 columns):\n",
      " #   Column              Non-Null Count  Dtype  \n",
      "---  ------              --------------  -----  \n",
      " 0   PassengerId         891 non-null    int64  \n",
      " 1   Name                891 non-null    object \n",
      " 2   Age                 714 non-null    float64\n",
      " 3   SibSp               891 non-null    int64  \n",
      " 4   Parch               891 non-null    int64  \n",
      " 5   Ticket              891 non-null    object \n",
      " 6   Fare                891 non-null    float64\n",
      " 7   Cabin               204 non-null    object \n",
      " 8   Embarked            889 non-null    object \n",
      " 9   passenger_class     891 non-null    object \n",
      " 10  passenger_sex       891 non-null    object \n",
      " 11  passenger_survived  891 non-null    object \n",
      "dtypes: float64(2), int64(3), object(7)\n",
      "memory usage: 83.7+ KB\n"
     ]
    }
   ],
   "source": [
    "data.info()"
   ]
  },
  {
   "cell_type": "markdown",
   "id": "stuck-gather",
   "metadata": {},
   "source": [
    "Datos faltantes en columnas ***Age, Cabin y Embarked***"
   ]
  },
  {
   "cell_type": "markdown",
   "id": "excess-bulletin",
   "metadata": {},
   "source": [
    "### Diccionario"
   ]
  },
  {
   "attachments": {
    "Dictionary.png": {
     "image/png": "[encoded data removed]"
    }
   },
   "cell_type": "markdown",
   "id": "veterinary-curve",
   "metadata": {},
   "source": [
    "![Dictionary.png](attachment:Dictionary.png)"
   ]
  },
  {
   "cell_type": "markdown",
   "id": "optional-survey",
   "metadata": {},
   "source": [
    "### Columnas Numéricas"
   ]
  },
  {
   "cell_type": "code",
   "execution_count": 9,
   "id": "appropriate-parker",
   "metadata": {},
   "outputs": [
    {
     "data": {
      "text/plain": [
       "<AxesSubplot:xlabel='Age', ylabel='Density'>"
      ]
     },
     "execution_count": 9,
     "metadata": {},
     "output_type": "execute_result"
    },
    {
     "data": {
      "image/png": "[encoded data removed]",
      "text/plain": [
       "<Figure size 432x288 with 1 Axes>"
      ]
     },
     "metadata": {
      "needs_background": "light"
     },
     "output_type": "display_data"
    }
   ],
   "source": [
    "# desactiva mensajes futureWarnings\n",
    "warnings.filterwarnings(\"ignore\")\n",
    "plt.figure()\n",
    "sns.distplot(data['Age'])"
   ]
  },
  {
   "cell_type": "code",
   "execution_count": 10,
   "id": "authentic-pottery",
   "metadata": {},
   "outputs": [
    {
     "data": {
      "text/plain": [
       "<AxesSubplot:xlabel='SibSp', ylabel='Density'>"
      ]
     },
     "execution_count": 10,
     "metadata": {},
     "output_type": "execute_result"
    },
    {
     "data": {
      "image/png": "[encoded data removed]",
      "text/plain": [
       "<Figure size 432x288 with 1 Axes>"
      ]
     },
     "metadata": {
      "needs_background": "light"
     },
     "output_type": "display_data"
    }
   ],
   "source": [
    "# No. of siblings / spouses aboard the Titanic\n",
    "plt.figure()\n",
    "sns.distplot(data['SibSp'])"
   ]
  },
  {
   "cell_type": "code",
   "execution_count": 11,
   "id": "quarterly-stamp",
   "metadata": {},
   "outputs": [
    {
     "data": {
      "text/plain": [
       "<AxesSubplot:xlabel='Parch', ylabel='Density'>"
      ]
     },
     "execution_count": 11,
     "metadata": {},
     "output_type": "execute_result"
    },
    {
     "data": {
      "image/png": "[encoded data removed]",
      "text/plain": [
       "<Figure size 432x288 with 1 Axes>"
      ]
     },
     "metadata": {
      "needs_background": "light"
     },
     "output_type": "display_data"
    }
   ],
   "source": [
    "# No. of parents / children aboard the Titanic\n",
    "plt.figure()\n",
    "sns.distplot(data['Parch'])"
   ]
  },
  {
   "cell_type": "code",
   "execution_count": 12,
   "id": "broadband-somewhere",
   "metadata": {},
   "outputs": [
    {
     "data": {
      "text/plain": [
       "<AxesSubplot:xlabel='Fare', ylabel='Density'>"
      ]
     },
     "execution_count": 12,
     "metadata": {},
     "output_type": "execute_result"
    },
    {
     "data": {
      "image/png": "[encoded data removed]",
      "text/plain": [
       "<Figure size 432x288 with 1 Axes>"
      ]
     },
     "metadata": {
      "needs_background": "light"
     },
     "output_type": "display_data"
    }
   ],
   "source": [
    "# Passenger fare\n",
    "plt.figure()\n",
    "sns.distplot(data['Fare'])"
   ]
  },
  {
   "cell_type": "markdown",
   "id": "stupid-contemporary",
   "metadata": {},
   "source": [
    "## Transformación de features "
   ]
  },
  {
   "cell_type": "code",
   "execution_count": 13,
   "id": "advance-warrant",
   "metadata": {},
   "outputs": [],
   "source": [
    "onehot_class = np.array(data['passenger_class']).reshape(-1,1)\n",
    "\n",
    "enc_train = OneHotEncoder(categories='auto')\n",
    "enc_train.fit(onehot_class)\n",
    "onehot_class = enc_train.transform(onehot_class).toarray()\n",
    "data['Low_class'], data['Mid_class'], data['Upp_class'] = [onehot_class.T[0], onehot_class.T[1], onehot_class.T[2]]"
   ]
  },
  {
   "cell_type": "code",
   "execution_count": 14,
   "id": "retired-unemployment",
   "metadata": {},
   "outputs": [
    {
     "data": {
      "text/plain": [
       "0    1\n",
       "1    0\n",
       "2    0\n",
       "3    0\n",
       "4    1\n",
       "Name: passenger_sex, dtype: int64"
      ]
     },
     "execution_count": 14,
     "metadata": {},
     "output_type": "execute_result"
    }
   ],
   "source": [
    "data['passenger_sex'] = data['passenger_sex'].replace('M',1)\n",
    "data['passenger_sex'] = data['passenger_sex'].replace('F',0)\n",
    "data['passenger_sex'].head()"
   ]
  },
  {
   "cell_type": "code",
   "execution_count": 15,
   "id": "acting-sculpture",
   "metadata": {},
   "outputs": [
    {
     "data": {
      "text/plain": [
       "0    0\n",
       "1    1\n",
       "2    1\n",
       "3    1\n",
       "4    0\n",
       "Name: passenger_survived, dtype: int64"
      ]
     },
     "execution_count": 15,
     "metadata": {},
     "output_type": "execute_result"
    }
   ],
   "source": [
    "data['passenger_survived'] = data['passenger_survived'].replace('Y',1)\n",
    "data['passenger_survived'] = data['passenger_survived'].replace('N',0)\n",
    "data['passenger_survived'].head()"
   ]
  },
  {
   "cell_type": "code",
   "execution_count": 16,
   "id": "multiple-brisbane",
   "metadata": {},
   "outputs": [],
   "source": [
    "data = data.dropna(subset = ['Embarked'])\n",
    "\n",
    "onehot_embarked = np.array(data['Embarked']).reshape(-1,1)\n",
    "enc_train = OneHotEncoder(categories='auto')\n",
    "enc_train.fit(onehot_embarked)\n",
    "onehot_embarked = enc_train.transform(onehot_embarked).toarray()\n",
    "data['Emb_C'], data['Emb_Q'], data['Emb_S'] = [onehot_embarked.T[0], onehot_embarked.T[1], onehot_embarked.T[2]]"
   ]
  },
  {
   "cell_type": "code",
   "execution_count": 17,
   "id": "adaptive-princeton",
   "metadata": {},
   "outputs": [
    {
     "name": "stdout",
     "output_type": "stream",
     "text": [
      "<class 'pandas.core.frame.DataFrame'>\n",
      "Int64Index: 889 entries, 0 to 890\n",
      "Data columns (total 12 columns):\n",
      " #   Column              Non-Null Count  Dtype  \n",
      "---  ------              --------------  -----  \n",
      " 0   Age                 712 non-null    float64\n",
      " 1   SibSp               889 non-null    int64  \n",
      " 2   Parch               889 non-null    int64  \n",
      " 3   Fare                889 non-null    float64\n",
      " 4   passenger_sex       889 non-null    int64  \n",
      " 5   passenger_survived  889 non-null    int64  \n",
      " 6   Low_class           889 non-null    float64\n",
      " 7   Mid_class           889 non-null    float64\n",
      " 8   Upp_class           889 non-null    float64\n",
      " 9   Emb_C               889 non-null    float64\n",
      " 10  Emb_Q               889 non-null    float64\n",
      " 11  Emb_S               889 non-null    float64\n",
      "dtypes: float64(8), int64(4)\n",
      "memory usage: 90.3 KB\n"
     ]
    }
   ],
   "source": [
    "data_clean = data.drop(columns = ['Embarked', 'passenger_class', 'Ticket', 'Name', 'Cabin', 'PassengerId'])\n",
    "data_clean.info()"
   ]
  },
  {
   "cell_type": "code",
   "execution_count": 18,
   "id": "quantitative-combine",
   "metadata": {},
   "outputs": [],
   "source": [
    "data_clean['Age'].fillna(int(data_clean['Age'].mean()), inplace=True)"
   ]
  },
  {
   "cell_type": "code",
   "execution_count": 19,
   "id": "victorian-rolling",
   "metadata": {},
   "outputs": [
    {
     "data": {
      "text/html": [
       "<div>\n",
       "<style scoped>\n",
       "    .dataframe tbody tr th:only-of-type {\n",
       "        vertical-align: middle;\n",
       "    }\n",
       "\n",
       "    .dataframe tbody tr th {\n",
       "        vertical-align: top;\n",
       "    }\n",
       "\n",
       "    .dataframe thead th {\n",
       "        text-align: right;\n",
       "    }\n",
       "</style>\n",
       "<table border=\"1\" class=\"dataframe\">\n",
       "  <thead>\n",
       "    <tr style=\"text-align: right;\">\n",
       "      <th></th>\n",
       "      <th>Age</th>\n",
       "      <th>SibSp</th>\n",
       "      <th>Parch</th>\n",
       "      <th>Fare</th>\n",
       "      <th>passenger_sex</th>\n",
       "      <th>passenger_survived</th>\n",
       "      <th>Low_class</th>\n",
       "      <th>Mid_class</th>\n",
       "      <th>Upp_class</th>\n",
       "      <th>Emb_C</th>\n",
       "      <th>Emb_Q</th>\n",
       "      <th>Emb_S</th>\n",
       "    </tr>\n",
       "  </thead>\n",
       "  <tbody>\n",
       "    <tr>\n",
       "      <th>0</th>\n",
       "      <td>22.0</td>\n",
       "      <td>1</td>\n",
       "      <td>0</td>\n",
       "      <td>7.2500</td>\n",
       "      <td>1</td>\n",
       "      <td>0</td>\n",
       "      <td>1.0</td>\n",
       "      <td>0.0</td>\n",
       "      <td>0.0</td>\n",
       "      <td>0.0</td>\n",
       "      <td>0.0</td>\n",
       "      <td>1.0</td>\n",
       "    </tr>\n",
       "    <tr>\n",
       "      <th>1</th>\n",
       "      <td>38.0</td>\n",
       "      <td>1</td>\n",
       "      <td>0</td>\n",
       "      <td>71.2833</td>\n",
       "      <td>0</td>\n",
       "      <td>1</td>\n",
       "      <td>0.0</td>\n",
       "      <td>0.0</td>\n",
       "      <td>1.0</td>\n",
       "      <td>1.0</td>\n",
       "      <td>0.0</td>\n",
       "      <td>0.0</td>\n",
       "    </tr>\n",
       "    <tr>\n",
       "      <th>2</th>\n",
       "      <td>26.0</td>\n",
       "      <td>0</td>\n",
       "      <td>0</td>\n",
       "      <td>7.9250</td>\n",
       "      <td>0</td>\n",
       "      <td>1</td>\n",
       "      <td>1.0</td>\n",
       "      <td>0.0</td>\n",
       "      <td>0.0</td>\n",
       "      <td>0.0</td>\n",
       "      <td>0.0</td>\n",
       "      <td>1.0</td>\n",
       "    </tr>\n",
       "    <tr>\n",
       "      <th>3</th>\n",
       "      <td>35.0</td>\n",
       "      <td>1</td>\n",
       "      <td>0</td>\n",
       "      <td>53.1000</td>\n",
       "      <td>0</td>\n",
       "      <td>1</td>\n",
       "      <td>0.0</td>\n",
       "      <td>0.0</td>\n",
       "      <td>1.0</td>\n",
       "      <td>0.0</td>\n",
       "      <td>0.0</td>\n",
       "      <td>1.0</td>\n",
       "    </tr>\n",
       "    <tr>\n",
       "      <th>4</th>\n",
       "      <td>35.0</td>\n",
       "      <td>0</td>\n",
       "      <td>0</td>\n",
       "      <td>8.0500</td>\n",
       "      <td>1</td>\n",
       "      <td>0</td>\n",
       "      <td>1.0</td>\n",
       "      <td>0.0</td>\n",
       "      <td>0.0</td>\n",
       "      <td>0.0</td>\n",
       "      <td>0.0</td>\n",
       "      <td>1.0</td>\n",
       "    </tr>\n",
       "    <tr>\n",
       "      <th>...</th>\n",
       "      <td>...</td>\n",
       "      <td>...</td>\n",
       "      <td>...</td>\n",
       "      <td>...</td>\n",
       "      <td>...</td>\n",
       "      <td>...</td>\n",
       "      <td>...</td>\n",
       "      <td>...</td>\n",
       "      <td>...</td>\n",
       "      <td>...</td>\n",
       "      <td>...</td>\n",
       "      <td>...</td>\n",
       "    </tr>\n",
       "    <tr>\n",
       "      <th>886</th>\n",
       "      <td>27.0</td>\n",
       "      <td>0</td>\n",
       "      <td>0</td>\n",
       "      <td>13.0000</td>\n",
       "      <td>1</td>\n",
       "      <td>0</td>\n",
       "      <td>0.0</td>\n",
       "      <td>1.0</td>\n",
       "      <td>0.0</td>\n",
       "      <td>0.0</td>\n",
       "      <td>0.0</td>\n",
       "      <td>1.0</td>\n",
       "    </tr>\n",
       "    <tr>\n",
       "      <th>887</th>\n",
       "      <td>19.0</td>\n",
       "      <td>0</td>\n",
       "      <td>0</td>\n",
       "      <td>30.0000</td>\n",
       "      <td>0</td>\n",
       "      <td>1</td>\n",
       "      <td>0.0</td>\n",
       "      <td>0.0</td>\n",
       "      <td>1.0</td>\n",
       "      <td>0.0</td>\n",
       "      <td>0.0</td>\n",
       "      <td>1.0</td>\n",
       "    </tr>\n",
       "    <tr>\n",
       "      <th>888</th>\n",
       "      <td>29.0</td>\n",
       "      <td>1</td>\n",
       "      <td>2</td>\n",
       "      <td>23.4500</td>\n",
       "      <td>0</td>\n",
       "      <td>0</td>\n",
       "      <td>1.0</td>\n",
       "      <td>0.0</td>\n",
       "      <td>0.0</td>\n",
       "      <td>0.0</td>\n",
       "      <td>0.0</td>\n",
       "      <td>1.0</td>\n",
       "    </tr>\n",
       "    <tr>\n",
       "      <th>889</th>\n",
       "      <td>26.0</td>\n",
       "      <td>0</td>\n",
       "      <td>0</td>\n",
       "      <td>30.0000</td>\n",
       "      <td>1</td>\n",
       "      <td>1</td>\n",
       "      <td>0.0</td>\n",
       "      <td>0.0</td>\n",
       "      <td>1.0</td>\n",
       "      <td>1.0</td>\n",
       "      <td>0.0</td>\n",
       "      <td>0.0</td>\n",
       "    </tr>\n",
       "    <tr>\n",
       "      <th>890</th>\n",
       "      <td>32.0</td>\n",
       "      <td>0</td>\n",
       "      <td>0</td>\n",
       "      <td>7.7500</td>\n",
       "      <td>1</td>\n",
       "      <td>0</td>\n",
       "      <td>1.0</td>\n",
       "      <td>0.0</td>\n",
       "      <td>0.0</td>\n",
       "      <td>0.0</td>\n",
       "      <td>1.0</td>\n",
       "      <td>0.0</td>\n",
       "    </tr>\n",
       "  </tbody>\n",
       "</table>\n",
       "<p>889 rows × 12 columns</p>\n",
       "</div>"
      ],
      "text/plain": [
       "      Age  SibSp  Parch     Fare  passenger_sex  passenger_survived  \\\n",
       "0    22.0      1      0   7.2500              1                   0   \n",
       "1    38.0      1      0  71.2833              0                   1   \n",
       "2    26.0      0      0   7.9250              0                   1   \n",
       "3    35.0      1      0  53.1000              0                   1   \n",
       "4    35.0      0      0   8.0500              1                   0   \n",
       "..    ...    ...    ...      ...            ...                 ...   \n",
       "886  27.0      0      0  13.0000              1                   0   \n",
       "887  19.0      0      0  30.0000              0                   1   \n",
       "888  29.0      1      2  23.4500              0                   0   \n",
       "889  26.0      0      0  30.0000              1                   1   \n",
       "890  32.0      0      0   7.7500              1                   0   \n",
       "\n",
       "     Low_class  Mid_class  Upp_class  Emb_C  Emb_Q  Emb_S  \n",
       "0          1.0        0.0        0.0    0.0    0.0    1.0  \n",
       "1          0.0        0.0        1.0    1.0    0.0    0.0  \n",
       "2          1.0        0.0        0.0    0.0    0.0    1.0  \n",
       "3          0.0        0.0        1.0    0.0    0.0    1.0  \n",
       "4          1.0        0.0        0.0    0.0    0.0    1.0  \n",
       "..         ...        ...        ...    ...    ...    ...  \n",
       "886        0.0        1.0        0.0    0.0    0.0    1.0  \n",
       "887        0.0        0.0        1.0    0.0    0.0    1.0  \n",
       "888        1.0        0.0        0.0    0.0    0.0    1.0  \n",
       "889        0.0        0.0        1.0    1.0    0.0    0.0  \n",
       "890        1.0        0.0        0.0    0.0    1.0    0.0  \n",
       "\n",
       "[889 rows x 12 columns]"
      ]
     },
     "execution_count": 19,
     "metadata": {},
     "output_type": "execute_result"
    }
   ],
   "source": [
    "data_clean"
   ]
  },
  {
   "cell_type": "code",
   "execution_count": 20,
   "id": "emerging-insulin",
   "metadata": {},
   "outputs": [],
   "source": [
    "data_clean['MiembrosFam'] = data_clean['SibSp'] + data_clean['Parch']"
   ]
  },
  {
   "cell_type": "code",
   "execution_count": 21,
   "id": "activated-dimension",
   "metadata": {},
   "outputs": [
    {
     "data": {
      "text/html": [
       "<div>\n",
       "<style scoped>\n",
       "    .dataframe tbody tr th:only-of-type {\n",
       "        vertical-align: middle;\n",
       "    }\n",
       "\n",
       "    .dataframe tbody tr th {\n",
       "        vertical-align: top;\n",
       "    }\n",
       "\n",
       "    .dataframe thead th {\n",
       "        text-align: right;\n",
       "    }\n",
       "</style>\n",
       "<table border=\"1\" class=\"dataframe\">\n",
       "  <thead>\n",
       "    <tr style=\"text-align: right;\">\n",
       "      <th></th>\n",
       "      <th>Age</th>\n",
       "      <th>SibSp</th>\n",
       "      <th>Parch</th>\n",
       "      <th>Fare</th>\n",
       "      <th>passenger_sex</th>\n",
       "      <th>passenger_survived</th>\n",
       "      <th>Low_class</th>\n",
       "      <th>Mid_class</th>\n",
       "      <th>Upp_class</th>\n",
       "      <th>Emb_C</th>\n",
       "      <th>Emb_Q</th>\n",
       "      <th>Emb_S</th>\n",
       "      <th>MiembrosFam</th>\n",
       "    </tr>\n",
       "  </thead>\n",
       "  <tbody>\n",
       "    <tr>\n",
       "      <th>0</th>\n",
       "      <td>22.0</td>\n",
       "      <td>1</td>\n",
       "      <td>0</td>\n",
       "      <td>7.2500</td>\n",
       "      <td>1</td>\n",
       "      <td>0</td>\n",
       "      <td>1.0</td>\n",
       "      <td>0.0</td>\n",
       "      <td>0.0</td>\n",
       "      <td>0.0</td>\n",
       "      <td>0.0</td>\n",
       "      <td>1.0</td>\n",
       "      <td>1</td>\n",
       "    </tr>\n",
       "    <tr>\n",
       "      <th>1</th>\n",
       "      <td>38.0</td>\n",
       "      <td>1</td>\n",
       "      <td>0</td>\n",
       "      <td>71.2833</td>\n",
       "      <td>0</td>\n",
       "      <td>1</td>\n",
       "      <td>0.0</td>\n",
       "      <td>0.0</td>\n",
       "      <td>1.0</td>\n",
       "      <td>1.0</td>\n",
       "      <td>0.0</td>\n",
       "      <td>0.0</td>\n",
       "      <td>1</td>\n",
       "    </tr>\n",
       "    <tr>\n",
       "      <th>2</th>\n",
       "      <td>26.0</td>\n",
       "      <td>0</td>\n",
       "      <td>0</td>\n",
       "      <td>7.9250</td>\n",
       "      <td>0</td>\n",
       "      <td>1</td>\n",
       "      <td>1.0</td>\n",
       "      <td>0.0</td>\n",
       "      <td>0.0</td>\n",
       "      <td>0.0</td>\n",
       "      <td>0.0</td>\n",
       "      <td>1.0</td>\n",
       "      <td>0</td>\n",
       "    </tr>\n",
       "    <tr>\n",
       "      <th>3</th>\n",
       "      <td>35.0</td>\n",
       "      <td>1</td>\n",
       "      <td>0</td>\n",
       "      <td>53.1000</td>\n",
       "      <td>0</td>\n",
       "      <td>1</td>\n",
       "      <td>0.0</td>\n",
       "      <td>0.0</td>\n",
       "      <td>1.0</td>\n",
       "      <td>0.0</td>\n",
       "      <td>0.0</td>\n",
       "      <td>1.0</td>\n",
       "      <td>1</td>\n",
       "    </tr>\n",
       "    <tr>\n",
       "      <th>4</th>\n",
       "      <td>35.0</td>\n",
       "      <td>0</td>\n",
       "      <td>0</td>\n",
       "      <td>8.0500</td>\n",
       "      <td>1</td>\n",
       "      <td>0</td>\n",
       "      <td>1.0</td>\n",
       "      <td>0.0</td>\n",
       "      <td>0.0</td>\n",
       "      <td>0.0</td>\n",
       "      <td>0.0</td>\n",
       "      <td>1.0</td>\n",
       "      <td>0</td>\n",
       "    </tr>\n",
       "    <tr>\n",
       "      <th>...</th>\n",
       "      <td>...</td>\n",
       "      <td>...</td>\n",
       "      <td>...</td>\n",
       "      <td>...</td>\n",
       "      <td>...</td>\n",
       "      <td>...</td>\n",
       "      <td>...</td>\n",
       "      <td>...</td>\n",
       "      <td>...</td>\n",
       "      <td>...</td>\n",
       "      <td>...</td>\n",
       "      <td>...</td>\n",
       "      <td>...</td>\n",
       "    </tr>\n",
       "    <tr>\n",
       "      <th>886</th>\n",
       "      <td>27.0</td>\n",
       "      <td>0</td>\n",
       "      <td>0</td>\n",
       "      <td>13.0000</td>\n",
       "      <td>1</td>\n",
       "      <td>0</td>\n",
       "      <td>0.0</td>\n",
       "      <td>1.0</td>\n",
       "      <td>0.0</td>\n",
       "      <td>0.0</td>\n",
       "      <td>0.0</td>\n",
       "      <td>1.0</td>\n",
       "      <td>0</td>\n",
       "    </tr>\n",
       "    <tr>\n",
       "      <th>887</th>\n",
       "      <td>19.0</td>\n",
       "      <td>0</td>\n",
       "      <td>0</td>\n",
       "      <td>30.0000</td>\n",
       "      <td>0</td>\n",
       "      <td>1</td>\n",
       "      <td>0.0</td>\n",
       "      <td>0.0</td>\n",
       "      <td>1.0</td>\n",
       "      <td>0.0</td>\n",
       "      <td>0.0</td>\n",
       "      <td>1.0</td>\n",
       "      <td>0</td>\n",
       "    </tr>\n",
       "    <tr>\n",
       "      <th>888</th>\n",
       "      <td>29.0</td>\n",
       "      <td>1</td>\n",
       "      <td>2</td>\n",
       "      <td>23.4500</td>\n",
       "      <td>0</td>\n",
       "      <td>0</td>\n",
       "      <td>1.0</td>\n",
       "      <td>0.0</td>\n",
       "      <td>0.0</td>\n",
       "      <td>0.0</td>\n",
       "      <td>0.0</td>\n",
       "      <td>1.0</td>\n",
       "      <td>3</td>\n",
       "    </tr>\n",
       "    <tr>\n",
       "      <th>889</th>\n",
       "      <td>26.0</td>\n",
       "      <td>0</td>\n",
       "      <td>0</td>\n",
       "      <td>30.0000</td>\n",
       "      <td>1</td>\n",
       "      <td>1</td>\n",
       "      <td>0.0</td>\n",
       "      <td>0.0</td>\n",
       "      <td>1.0</td>\n",
       "      <td>1.0</td>\n",
       "      <td>0.0</td>\n",
       "      <td>0.0</td>\n",
       "      <td>0</td>\n",
       "    </tr>\n",
       "    <tr>\n",
       "      <th>890</th>\n",
       "      <td>32.0</td>\n",
       "      <td>0</td>\n",
       "      <td>0</td>\n",
       "      <td>7.7500</td>\n",
       "      <td>1</td>\n",
       "      <td>0</td>\n",
       "      <td>1.0</td>\n",
       "      <td>0.0</td>\n",
       "      <td>0.0</td>\n",
       "      <td>0.0</td>\n",
       "      <td>1.0</td>\n",
       "      <td>0.0</td>\n",
       "      <td>0</td>\n",
       "    </tr>\n",
       "  </tbody>\n",
       "</table>\n",
       "<p>889 rows × 13 columns</p>\n",
       "</div>"
      ],
      "text/plain": [
       "      Age  SibSp  Parch     Fare  passenger_sex  passenger_survived  \\\n",
       "0    22.0      1      0   7.2500              1                   0   \n",
       "1    38.0      1      0  71.2833              0                   1   \n",
       "2    26.0      0      0   7.9250              0                   1   \n",
       "3    35.0      1      0  53.1000              0                   1   \n",
       "4    35.0      0      0   8.0500              1                   0   \n",
       "..    ...    ...    ...      ...            ...                 ...   \n",
       "886  27.0      0      0  13.0000              1                   0   \n",
       "887  19.0      0      0  30.0000              0                   1   \n",
       "888  29.0      1      2  23.4500              0                   0   \n",
       "889  26.0      0      0  30.0000              1                   1   \n",
       "890  32.0      0      0   7.7500              1                   0   \n",
       "\n",
       "     Low_class  Mid_class  Upp_class  Emb_C  Emb_Q  Emb_S  MiembrosFam  \n",
       "0          1.0        0.0        0.0    0.0    0.0    1.0            1  \n",
       "1          0.0        0.0        1.0    1.0    0.0    0.0            1  \n",
       "2          1.0        0.0        0.0    0.0    0.0    1.0            0  \n",
       "3          0.0        0.0        1.0    0.0    0.0    1.0            1  \n",
       "4          1.0        0.0        0.0    0.0    0.0    1.0            0  \n",
       "..         ...        ...        ...    ...    ...    ...          ...  \n",
       "886        0.0        1.0        0.0    0.0    0.0    1.0            0  \n",
       "887        0.0        0.0        1.0    0.0    0.0    1.0            0  \n",
       "888        1.0        0.0        0.0    0.0    0.0    1.0            3  \n",
       "889        0.0        0.0        1.0    1.0    0.0    0.0            0  \n",
       "890        1.0        0.0        0.0    0.0    1.0    0.0            0  \n",
       "\n",
       "[889 rows x 13 columns]"
      ]
     },
     "execution_count": 21,
     "metadata": {},
     "output_type": "execute_result"
    }
   ],
   "source": [
    "data_clean"
   ]
  },
  {
   "cell_type": "code",
   "execution_count": 22,
   "id": "essential-zealand",
   "metadata": {},
   "outputs": [
    {
     "data": {
      "text/html": [
       "<div>\n",
       "<style scoped>\n",
       "    .dataframe tbody tr th:only-of-type {\n",
       "        vertical-align: middle;\n",
       "    }\n",
       "\n",
       "    .dataframe tbody tr th {\n",
       "        vertical-align: top;\n",
       "    }\n",
       "\n",
       "    .dataframe thead th {\n",
       "        text-align: right;\n",
       "    }\n",
       "</style>\n",
       "<table border=\"1\" class=\"dataframe\">\n",
       "  <thead>\n",
       "    <tr style=\"text-align: right;\">\n",
       "      <th></th>\n",
       "      <th>Total</th>\n",
       "      <th>%</th>\n",
       "    </tr>\n",
       "  </thead>\n",
       "  <tbody>\n",
       "    <tr>\n",
       "      <th>MiembrosFam</th>\n",
       "      <td>0</td>\n",
       "      <td>0.0</td>\n",
       "    </tr>\n",
       "    <tr>\n",
       "      <th>Emb_S</th>\n",
       "      <td>0</td>\n",
       "      <td>0.0</td>\n",
       "    </tr>\n",
       "    <tr>\n",
       "      <th>Emb_Q</th>\n",
       "      <td>0</td>\n",
       "      <td>0.0</td>\n",
       "    </tr>\n",
       "    <tr>\n",
       "      <th>Emb_C</th>\n",
       "      <td>0</td>\n",
       "      <td>0.0</td>\n",
       "    </tr>\n",
       "    <tr>\n",
       "      <th>Upp_class</th>\n",
       "      <td>0</td>\n",
       "      <td>0.0</td>\n",
       "    </tr>\n",
       "    <tr>\n",
       "      <th>Mid_class</th>\n",
       "      <td>0</td>\n",
       "      <td>0.0</td>\n",
       "    </tr>\n",
       "    <tr>\n",
       "      <th>Low_class</th>\n",
       "      <td>0</td>\n",
       "      <td>0.0</td>\n",
       "    </tr>\n",
       "    <tr>\n",
       "      <th>passenger_survived</th>\n",
       "      <td>0</td>\n",
       "      <td>0.0</td>\n",
       "    </tr>\n",
       "  </tbody>\n",
       "</table>\n",
       "</div>"
      ],
      "text/plain": [
       "                    Total    %\n",
       "MiembrosFam             0  0.0\n",
       "Emb_S                   0  0.0\n",
       "Emb_Q                   0  0.0\n",
       "Emb_C                   0  0.0\n",
       "Upp_class               0  0.0\n",
       "Mid_class               0  0.0\n",
       "Low_class               0  0.0\n",
       "passenger_survived      0  0.0"
      ]
     },
     "execution_count": 22,
     "metadata": {},
     "output_type": "execute_result"
    }
   ],
   "source": [
    "# Volvemos a revisar si hay datos incompletos en las columnas del dataframe depurado\n",
    "total = data_clean.isnull().sum().sort_values(ascending=False)\n",
    "percent_1 = data_clean.isnull().sum()/data_clean.isnull().count()*100\n",
    "percent_2 = (round(percent_1, 1)).sort_values(ascending=False)\n",
    "missing_data = pd.concat([total, percent_2], axis=1, keys=['Total', '%'])\n",
    "missing_data.head(8)"
   ]
  },
  {
   "cell_type": "markdown",
   "id": "twelve-inspiration",
   "metadata": {},
   "source": [
    "### Estandarización de valores de columnas que no son de Característica"
   ]
  },
  {
   "cell_type": "code",
   "execution_count": 23,
   "id": "monetary-occasion",
   "metadata": {},
   "outputs": [],
   "source": [
    "data_clean[['Age','SibSp','Parch','Fare','MiembrosFam']] = normalize(data_clean[['Age','SibSp','Parch','Fare','MiembrosFam']])"
   ]
  },
  {
   "cell_type": "code",
   "execution_count": 24,
   "id": "weekly-tutorial",
   "metadata": {},
   "outputs": [
    {
     "data": {
      "text/plain": [
       "0      0\n",
       "1      1\n",
       "2      1\n",
       "3      1\n",
       "4      0\n",
       "      ..\n",
       "886    0\n",
       "887    1\n",
       "888    0\n",
       "889    1\n",
       "890    0\n",
       "Name: passenger_survived, Length: 889, dtype: int64"
      ]
     },
     "execution_count": 24,
     "metadata": {},
     "output_type": "execute_result"
    }
   ],
   "source": [
    "ys = data_clean['passenger_survived']\n",
    "ys"
   ]
  },
  {
   "cell_type": "code",
   "execution_count": 25,
   "id": "sealed-multimedia",
   "metadata": {},
   "outputs": [
    {
     "data": {
      "text/html": [
       "<div>\n",
       "<style scoped>\n",
       "    .dataframe tbody tr th:only-of-type {\n",
       "        vertical-align: middle;\n",
       "    }\n",
       "\n",
       "    .dataframe tbody tr th {\n",
       "        vertical-align: top;\n",
       "    }\n",
       "\n",
       "    .dataframe thead th {\n",
       "        text-align: right;\n",
       "    }\n",
       "</style>\n",
       "<table border=\"1\" class=\"dataframe\">\n",
       "  <thead>\n",
       "    <tr style=\"text-align: right;\">\n",
       "      <th></th>\n",
       "      <th>Age</th>\n",
       "      <th>SibSp</th>\n",
       "      <th>Parch</th>\n",
       "      <th>Fare</th>\n",
       "      <th>passenger_sex</th>\n",
       "      <th>Low_class</th>\n",
       "      <th>Mid_class</th>\n",
       "      <th>Upp_class</th>\n",
       "      <th>Emb_C</th>\n",
       "      <th>Emb_Q</th>\n",
       "      <th>Emb_S</th>\n",
       "      <th>MiembrosFam</th>\n",
       "    </tr>\n",
       "  </thead>\n",
       "  <tbody>\n",
       "    <tr>\n",
       "      <th>0</th>\n",
       "      <td>0.947992</td>\n",
       "      <td>0.043091</td>\n",
       "      <td>0.000000</td>\n",
       "      <td>0.312406</td>\n",
       "      <td>1</td>\n",
       "      <td>1.0</td>\n",
       "      <td>0.0</td>\n",
       "      <td>0.0</td>\n",
       "      <td>0.0</td>\n",
       "      <td>0.0</td>\n",
       "      <td>1.0</td>\n",
       "      <td>0.043091</td>\n",
       "    </tr>\n",
       "    <tr>\n",
       "      <th>1</th>\n",
       "      <td>0.470345</td>\n",
       "      <td>0.012377</td>\n",
       "      <td>0.000000</td>\n",
       "      <td>0.882309</td>\n",
       "      <td>0</td>\n",
       "      <td>0.0</td>\n",
       "      <td>0.0</td>\n",
       "      <td>1.0</td>\n",
       "      <td>1.0</td>\n",
       "      <td>0.0</td>\n",
       "      <td>0.0</td>\n",
       "      <td>0.012377</td>\n",
       "    </tr>\n",
       "    <tr>\n",
       "      <th>2</th>\n",
       "      <td>0.956551</td>\n",
       "      <td>0.000000</td>\n",
       "      <td>0.000000</td>\n",
       "      <td>0.291564</td>\n",
       "      <td>0</td>\n",
       "      <td>1.0</td>\n",
       "      <td>0.0</td>\n",
       "      <td>0.0</td>\n",
       "      <td>0.0</td>\n",
       "      <td>0.0</td>\n",
       "      <td>1.0</td>\n",
       "      <td>0.000000</td>\n",
       "    </tr>\n",
       "    <tr>\n",
       "      <th>3</th>\n",
       "      <td>0.550202</td>\n",
       "      <td>0.015720</td>\n",
       "      <td>0.000000</td>\n",
       "      <td>0.834735</td>\n",
       "      <td>0</td>\n",
       "      <td>0.0</td>\n",
       "      <td>0.0</td>\n",
       "      <td>1.0</td>\n",
       "      <td>0.0</td>\n",
       "      <td>0.0</td>\n",
       "      <td>1.0</td>\n",
       "      <td>0.015720</td>\n",
       "    </tr>\n",
       "    <tr>\n",
       "      <th>4</th>\n",
       "      <td>0.974555</td>\n",
       "      <td>0.000000</td>\n",
       "      <td>0.000000</td>\n",
       "      <td>0.224148</td>\n",
       "      <td>1</td>\n",
       "      <td>1.0</td>\n",
       "      <td>0.0</td>\n",
       "      <td>0.0</td>\n",
       "      <td>0.0</td>\n",
       "      <td>0.0</td>\n",
       "      <td>1.0</td>\n",
       "      <td>0.000000</td>\n",
       "    </tr>\n",
       "    <tr>\n",
       "      <th>...</th>\n",
       "      <td>...</td>\n",
       "      <td>...</td>\n",
       "      <td>...</td>\n",
       "      <td>...</td>\n",
       "      <td>...</td>\n",
       "      <td>...</td>\n",
       "      <td>...</td>\n",
       "      <td>...</td>\n",
       "      <td>...</td>\n",
       "      <td>...</td>\n",
       "      <td>...</td>\n",
       "      <td>...</td>\n",
       "    </tr>\n",
       "    <tr>\n",
       "      <th>886</th>\n",
       "      <td>0.901002</td>\n",
       "      <td>0.000000</td>\n",
       "      <td>0.000000</td>\n",
       "      <td>0.433816</td>\n",
       "      <td>1</td>\n",
       "      <td>0.0</td>\n",
       "      <td>1.0</td>\n",
       "      <td>0.0</td>\n",
       "      <td>0.0</td>\n",
       "      <td>0.0</td>\n",
       "      <td>1.0</td>\n",
       "      <td>0.000000</td>\n",
       "    </tr>\n",
       "    <tr>\n",
       "      <th>887</th>\n",
       "      <td>0.535052</td>\n",
       "      <td>0.000000</td>\n",
       "      <td>0.000000</td>\n",
       "      <td>0.844819</td>\n",
       "      <td>0</td>\n",
       "      <td>0.0</td>\n",
       "      <td>0.0</td>\n",
       "      <td>1.0</td>\n",
       "      <td>0.0</td>\n",
       "      <td>0.0</td>\n",
       "      <td>1.0</td>\n",
       "      <td>0.000000</td>\n",
       "    </tr>\n",
       "    <tr>\n",
       "      <th>888</th>\n",
       "      <td>0.773704</td>\n",
       "      <td>0.026679</td>\n",
       "      <td>0.053359</td>\n",
       "      <td>0.625633</td>\n",
       "      <td>0</td>\n",
       "      <td>1.0</td>\n",
       "      <td>0.0</td>\n",
       "      <td>0.0</td>\n",
       "      <td>0.0</td>\n",
       "      <td>0.0</td>\n",
       "      <td>1.0</td>\n",
       "      <td>0.080038</td>\n",
       "    </tr>\n",
       "    <tr>\n",
       "      <th>889</th>\n",
       "      <td>0.654931</td>\n",
       "      <td>0.000000</td>\n",
       "      <td>0.000000</td>\n",
       "      <td>0.755689</td>\n",
       "      <td>1</td>\n",
       "      <td>0.0</td>\n",
       "      <td>0.0</td>\n",
       "      <td>1.0</td>\n",
       "      <td>1.0</td>\n",
       "      <td>0.0</td>\n",
       "      <td>0.0</td>\n",
       "      <td>0.000000</td>\n",
       "    </tr>\n",
       "    <tr>\n",
       "      <th>890</th>\n",
       "      <td>0.971903</td>\n",
       "      <td>0.000000</td>\n",
       "      <td>0.000000</td>\n",
       "      <td>0.235383</td>\n",
       "      <td>1</td>\n",
       "      <td>1.0</td>\n",
       "      <td>0.0</td>\n",
       "      <td>0.0</td>\n",
       "      <td>0.0</td>\n",
       "      <td>1.0</td>\n",
       "      <td>0.0</td>\n",
       "      <td>0.000000</td>\n",
       "    </tr>\n",
       "  </tbody>\n",
       "</table>\n",
       "<p>889 rows × 12 columns</p>\n",
       "</div>"
      ],
      "text/plain": [
       "          Age     SibSp     Parch      Fare  passenger_sex  Low_class  \\\n",
       "0    0.947992  0.043091  0.000000  0.312406              1        1.0   \n",
       "1    0.470345  0.012377  0.000000  0.882309              0        0.0   \n",
       "2    0.956551  0.000000  0.000000  0.291564              0        1.0   \n",
       "3    0.550202  0.015720  0.000000  0.834735              0        0.0   \n",
       "4    0.974555  0.000000  0.000000  0.224148              1        1.0   \n",
       "..        ...       ...       ...       ...            ...        ...   \n",
       "886  0.901002  0.000000  0.000000  0.433816              1        0.0   \n",
       "887  0.535052  0.000000  0.000000  0.844819              0        0.0   \n",
       "888  0.773704  0.026679  0.053359  0.625633              0        1.0   \n",
       "889  0.654931  0.000000  0.000000  0.755689              1        0.0   \n",
       "890  0.971903  0.000000  0.000000  0.235383              1        1.0   \n",
       "\n",
       "     Mid_class  Upp_class  Emb_C  Emb_Q  Emb_S  MiembrosFam  \n",
       "0          0.0        0.0    0.0    0.0    1.0     0.043091  \n",
       "1          0.0        1.0    1.0    0.0    0.0     0.012377  \n",
       "2          0.0        0.0    0.0    0.0    1.0     0.000000  \n",
       "3          0.0        1.0    0.0    0.0    1.0     0.015720  \n",
       "4          0.0        0.0    0.0    0.0    1.0     0.000000  \n",
       "..         ...        ...    ...    ...    ...          ...  \n",
       "886        1.0        0.0    0.0    0.0    1.0     0.000000  \n",
       "887        0.0        1.0    0.0    0.0    1.0     0.000000  \n",
       "888        0.0        0.0    0.0    0.0    1.0     0.080038  \n",
       "889        0.0        1.0    1.0    0.0    0.0     0.000000  \n",
       "890        0.0        0.0    0.0    1.0    0.0     0.000000  \n",
       "\n",
       "[889 rows x 12 columns]"
      ]
     },
     "execution_count": 25,
     "metadata": {},
     "output_type": "execute_result"
    }
   ],
   "source": [
    "#x_train = data_clean.drop(columns=['passenger_survived'])\n",
    "xs = data_clean.drop('passenger_survived', axis=1)\n",
    "xs"
   ]
  },
  {
   "cell_type": "markdown",
   "id": "continental-oregon",
   "metadata": {},
   "source": [
    "## Separación del Set de Datos para Entrenamiento, Pruebas y Validación"
   ]
  },
  {
   "cell_type": "code",
   "execution_count": 26,
   "id": "empty-qualification",
   "metadata": {},
   "outputs": [],
   "source": [
    "x_train, x_test, y_train, y_test = train_test_split(xs, ys, test_size=0.20, random_state=109)"
   ]
  },
  {
   "cell_type": "code",
   "execution_count": 27,
   "id": "surface-whale",
   "metadata": {},
   "outputs": [],
   "source": [
    "x_train, x_val, y_train, y_val = train_test_split(x_train, y_train, test_size=0.20, random_state=109)"
   ]
  },
  {
   "cell_type": "code",
   "execution_count": 28,
   "id": "dental-yukon",
   "metadata": {},
   "outputs": [
    {
     "name": "stdout",
     "output_type": "stream",
     "text": [
      "Sizes of Train  (568, 12)  Test  (178, 12)  Validation  (143, 12)\n"
     ]
    }
   ],
   "source": [
    "print(\"Sizes of Train \",x_train.shape, \" Test \",x_test.shape, \" Validation \", x_val.shape)"
   ]
  },
  {
   "cell_type": "markdown",
   "id": "martial-algeria",
   "metadata": {},
   "source": [
    "### Genera archivos deploy"
   ]
  },
  {
   "cell_type": "code",
   "execution_count": 29,
   "id": "thrown-sailing",
   "metadata": {},
   "outputs": [
    {
     "data": {
      "text/plain": [
       "['yTestDeploy.joblib']"
      ]
     },
     "execution_count": 29,
     "metadata": {},
     "output_type": "execute_result"
    }
   ],
   "source": [
    "dump(x_test,'xTestDeploy.joblib')\n",
    "dump(y_test,'yTestDeploy.joblib')"
   ]
  },
  {
   "cell_type": "markdown",
   "id": "arbitrary-remove",
   "metadata": {},
   "source": [
    "## Clasificación"
   ]
  },
  {
   "cell_type": "markdown",
   "id": "veterinary-commission",
   "metadata": {},
   "source": [
    "### Árbol de decisión con sklearn"
   ]
  },
  {
   "cell_type": "code",
   "execution_count": 33,
   "id": "ultimate-indonesia",
   "metadata": {},
   "outputs": [],
   "source": [
    "def f_trainDecisionTree(p_max_depth = None, p_min_samples_split = 2, p_min_samples_leaf = 1):\n",
    "    \n",
    "    fstring = './experimentos/'+\"arbolDecision\"+datetime.datetime.now().strftime(\"%Y%m%d-%H%M%S\") + \"_maxdepth=\" + str(p_max_depth) \\\n",
    "    + \"_minsamplesplit=\" + str(p_min_samples_split) + \"_minsampleleaf=\" + str(p_min_samples_leaf)\n",
    "\n",
    "    #tl.configure(fstring) \n",
    "    tlogs = tl.Logger(fstring)\n",
    "    decision_tree = DecisionTreeClassifier(max_depth = p_max_depth, min_samples_split = p_min_samples_split, min_samples_leaf = p_min_samples_leaf)\n",
    "\n",
    "    decision_tree.fit(x_train, y_train)\n",
    "    \n",
    "    # Train accuracy\n",
    "    train_accuracy = decision_tree.score(x_train, y_train)\n",
    "    tlogs.log_value('train_accuracy', train_accuracy, 1)\n",
    "\n",
    "    # Validate accuracy\n",
    "    val_accuracy = decision_tree.score(x_val, y_val)\n",
    "    tlogs.log_value('val_accuracy', val_accuracy, 1)\n",
    "    \n",
    "    Y_pred = decision_tree.predict(x_val)\n",
    "    \n",
    "    print(classification_report(Y_pred, y_val))\n",
    "    \n",
    "    print(\"training accuracy:\", train_accuracy)\n",
    "    print(\"validate accuracy:\", val_accuracy)\n",
    "    print(\"---------------------------------------------------\")\n",
    "    \n",
    "    return decision_tree\n"
   ]
  },
  {
   "cell_type": "markdown",
   "id": "radical-scroll",
   "metadata": {},
   "source": [
    "### Entrenamientos"
   ]
  },
  {
   "cell_type": "code",
   "execution_count": 31,
   "id": "planned-bouquet",
   "metadata": {},
   "outputs": [
    {
     "name": "stdout",
     "output_type": "stream",
     "text": [
      "              precision    recall  f1-score   support\n",
      "\n",
      "           0       0.83      0.81      0.82        91\n",
      "           1       0.69      0.71      0.70        52\n",
      "\n",
      "    accuracy                           0.78       143\n",
      "   macro avg       0.76      0.76      0.76       143\n",
      "weighted avg       0.78      0.78      0.78       143\n",
      "\n",
      "training accuracy: 0.9295774647887324\n",
      "validate accuracy: 0.7762237762237763\n",
      "---------------------------------------------------\n"
     ]
    },
    {
     "data": {
      "text/plain": [
       "DecisionTreeClassifier(max_depth=10)"
      ]
     },
     "execution_count": 31,
     "metadata": {},
     "output_type": "execute_result"
    }
   ],
   "source": [
    "f_trainDecisionTree(p_max_depth = 10, p_min_samples_split = 2, p_min_samples_leaf = 1)"
   ]
  },
  {
   "cell_type": "code",
   "execution_count": 34,
   "id": "running-marathon",
   "metadata": {},
   "outputs": [
    {
     "name": "stdout",
     "output_type": "stream",
     "text": [
      "              precision    recall  f1-score   support\n",
      "\n",
      "           0       0.88      0.79      0.83        99\n",
      "           1       0.61      0.75      0.67        44\n",
      "\n",
      "    accuracy                           0.78       143\n",
      "   macro avg       0.74      0.77      0.75       143\n",
      "weighted avg       0.79      0.78      0.78       143\n",
      "\n",
      "training accuracy: 0.8996478873239436\n",
      "validate accuracy: 0.7762237762237763\n",
      "---------------------------------------------------\n"
     ]
    },
    {
     "data": {
      "text/plain": [
       "DecisionTreeClassifier(max_depth=7)"
      ]
     },
     "execution_count": 34,
     "metadata": {},
     "output_type": "execute_result"
    }
   ],
   "source": [
    "f_trainDecisionTree(p_max_depth = 7, p_min_samples_split = 2, p_min_samples_leaf = 1)"
   ]
  },
  {
   "cell_type": "code",
   "execution_count": 35,
   "id": "south-ending",
   "metadata": {},
   "outputs": [
    {
     "name": "stdout",
     "output_type": "stream",
     "text": [
      "              precision    recall  f1-score   support\n",
      "\n",
      "           0       0.89      0.81      0.84        98\n",
      "           1       0.65      0.78      0.71        45\n",
      "\n",
      "    accuracy                           0.80       143\n",
      "   macro avg       0.77      0.79      0.78       143\n",
      "weighted avg       0.81      0.80      0.80       143\n",
      "\n",
      "training accuracy: 0.8609154929577465\n",
      "validate accuracy: 0.7972027972027972\n",
      "---------------------------------------------------\n"
     ]
    },
    {
     "data": {
      "text/plain": [
       "DecisionTreeClassifier(max_depth=5)"
      ]
     },
     "execution_count": 35,
     "metadata": {},
     "output_type": "execute_result"
    }
   ],
   "source": [
    "f_trainDecisionTree(p_max_depth = 5, p_min_samples_split = 2, p_min_samples_leaf = 1)"
   ]
  },
  {
   "cell_type": "code",
   "execution_count": 36,
   "id": "matched-valuable",
   "metadata": {},
   "outputs": [
    {
     "name": "stdout",
     "output_type": "stream",
     "text": [
      "              precision    recall  f1-score   support\n",
      "\n",
      "           0       0.97      0.79      0.87       109\n",
      "           1       0.57      0.91      0.70        34\n",
      "\n",
      "    accuracy                           0.82       143\n",
      "   macro avg       0.77      0.85      0.79       143\n",
      "weighted avg       0.87      0.82      0.83       143\n",
      "\n",
      "training accuracy: 0.8257042253521126\n",
      "validate accuracy: 0.8181818181818182\n",
      "---------------------------------------------------\n"
     ]
    },
    {
     "data": {
      "text/plain": [
       "DecisionTreeClassifier(max_depth=3)"
      ]
     },
     "execution_count": 36,
     "metadata": {},
     "output_type": "execute_result"
    }
   ],
   "source": [
    "f_trainDecisionTree(p_max_depth = 3, p_min_samples_split = 2, p_min_samples_leaf = 1)"
   ]
  },
  {
   "cell_type": "code",
   "execution_count": 37,
   "id": "connected-street",
   "metadata": {},
   "outputs": [
    {
     "name": "stdout",
     "output_type": "stream",
     "text": [
      "              precision    recall  f1-score   support\n",
      "\n",
      "           0       0.93      0.79      0.86       105\n",
      "           1       0.59      0.84      0.70        38\n",
      "\n",
      "    accuracy                           0.80       143\n",
      "   macro avg       0.76      0.82      0.78       143\n",
      "weighted avg       0.84      0.80      0.81       143\n",
      "\n",
      "training accuracy: 0.8257042253521126\n",
      "validate accuracy: 0.8041958041958042\n",
      "---------------------------------------------------\n"
     ]
    },
    {
     "data": {
      "text/plain": [
       "DecisionTreeClassifier(max_depth=3, min_samples_split=3)"
      ]
     },
     "execution_count": 37,
     "metadata": {},
     "output_type": "execute_result"
    }
   ],
   "source": [
    "f_trainDecisionTree(p_max_depth = 3, p_min_samples_split = 3, p_min_samples_leaf = 1)"
   ]
  },
  {
   "cell_type": "code",
   "execution_count": 38,
   "id": "massive-outreach",
   "metadata": {},
   "outputs": [
    {
     "name": "stdout",
     "output_type": "stream",
     "text": [
      "              precision    recall  f1-score   support\n",
      "\n",
      "           0       0.92      0.80      0.85       103\n",
      "           1       0.61      0.82      0.70        40\n",
      "\n",
      "    accuracy                           0.80       143\n",
      "   macro avg       0.77      0.81      0.78       143\n",
      "weighted avg       0.83      0.80      0.81       143\n",
      "\n",
      "training accuracy: 0.8309859154929577\n",
      "validate accuracy: 0.8041958041958042\n",
      "---------------------------------------------------\n"
     ]
    },
    {
     "data": {
      "text/plain": [
       "DecisionTreeClassifier(max_depth=4)"
      ]
     },
     "execution_count": 38,
     "metadata": {},
     "output_type": "execute_result"
    }
   ],
   "source": [
    "f_trainDecisionTree(p_max_depth = 4, p_min_samples_split = 2, p_min_samples_leaf = 1)"
   ]
  },
  {
   "cell_type": "code",
   "execution_count": 39,
   "id": "damaged-denial",
   "metadata": {},
   "outputs": [
    {
     "name": "stdout",
     "output_type": "stream",
     "text": [
      "              precision    recall  f1-score   support\n",
      "\n",
      "           0       0.92      0.80      0.85       103\n",
      "           1       0.61      0.82      0.70        40\n",
      "\n",
      "    accuracy                           0.80       143\n",
      "   macro avg       0.77      0.81      0.78       143\n",
      "weighted avg       0.83      0.80      0.81       143\n",
      "\n",
      "training accuracy: 0.8309859154929577\n",
      "validate accuracy: 0.8041958041958042\n",
      "---------------------------------------------------\n"
     ]
    },
    {
     "data": {
      "text/plain": [
       "DecisionTreeClassifier(max_depth=4, min_samples_split=3)"
      ]
     },
     "execution_count": 39,
     "metadata": {},
     "output_type": "execute_result"
    }
   ],
   "source": [
    "f_trainDecisionTree(p_max_depth = 4, p_min_samples_split = 3, p_min_samples_leaf = 1)"
   ]
  },
  {
   "cell_type": "code",
   "execution_count": 40,
   "id": "local-mortgage",
   "metadata": {},
   "outputs": [
    {
     "name": "stdout",
     "output_type": "stream",
     "text": [
      "              precision    recall  f1-score   support\n",
      "\n",
      "           0       0.93      0.81      0.86       103\n",
      "           1       0.63      0.85      0.72        40\n",
      "\n",
      "    accuracy                           0.82       143\n",
      "   macro avg       0.78      0.83      0.79       143\n",
      "weighted avg       0.85      0.82      0.83       143\n",
      "\n",
      "training accuracy: 0.8362676056338029\n",
      "validate accuracy: 0.8181818181818182\n",
      "---------------------------------------------------\n"
     ]
    },
    {
     "data": {
      "text/plain": [
       "DecisionTreeClassifier(max_depth=4, min_samples_split=4)"
      ]
     },
     "execution_count": 40,
     "metadata": {},
     "output_type": "execute_result"
    }
   ],
   "source": [
    "f_trainDecisionTree(p_max_depth = 4, p_min_samples_split = 4, p_min_samples_leaf = 1)"
   ]
  },
  {
   "cell_type": "code",
   "execution_count": 41,
   "id": "located-heading",
   "metadata": {},
   "outputs": [
    {
     "name": "stdout",
     "output_type": "stream",
     "text": [
      "              precision    recall  f1-score   support\n",
      "\n",
      "           0       0.93      0.81      0.86       103\n",
      "           1       0.63      0.85      0.72        40\n",
      "\n",
      "    accuracy                           0.82       143\n",
      "   macro avg       0.78      0.83      0.79       143\n",
      "weighted avg       0.85      0.82      0.83       143\n",
      "\n",
      "training accuracy: 0.8362676056338029\n",
      "validate accuracy: 0.8181818181818182\n",
      "---------------------------------------------------\n"
     ]
    },
    {
     "data": {
      "text/plain": [
       "DecisionTreeClassifier(max_depth=4, min_samples_split=5)"
      ]
     },
     "execution_count": 41,
     "metadata": {},
     "output_type": "execute_result"
    }
   ],
   "source": [
    "f_trainDecisionTree(p_max_depth = 4, p_min_samples_split = 5, p_min_samples_leaf = 1)"
   ]
  },
  {
   "cell_type": "code",
   "execution_count": 42,
   "id": "behind-globe",
   "metadata": {},
   "outputs": [
    {
     "name": "stdout",
     "output_type": "stream",
     "text": [
      "              precision    recall  f1-score   support\n",
      "\n",
      "           0       0.91      0.77      0.84       105\n",
      "           1       0.56      0.79      0.65        38\n",
      "\n",
      "    accuracy                           0.78       143\n",
      "   macro avg       0.73      0.78      0.74       143\n",
      "weighted avg       0.82      0.78      0.79       143\n",
      "\n",
      "training accuracy: 0.8943661971830986\n",
      "validate accuracy: 0.7762237762237763\n",
      "---------------------------------------------------\n"
     ]
    },
    {
     "data": {
      "text/plain": [
       "DecisionTreeClassifier(max_depth=10, min_samples_leaf=2)"
      ]
     },
     "execution_count": 42,
     "metadata": {},
     "output_type": "execute_result"
    }
   ],
   "source": [
    "f_trainDecisionTree(p_max_depth = 10, p_min_samples_split = 2, p_min_samples_leaf = 2)"
   ]
  },
  {
   "cell_type": "code",
   "execution_count": 43,
   "id": "aboriginal-diameter",
   "metadata": {},
   "outputs": [
    {
     "name": "stdout",
     "output_type": "stream",
     "text": [
      "              precision    recall  f1-score   support\n",
      "\n",
      "           0       0.84      0.80      0.82        94\n",
      "           1       0.65      0.71      0.68        49\n",
      "\n",
      "    accuracy                           0.77       143\n",
      "   macro avg       0.75      0.76      0.75       143\n",
      "weighted avg       0.78      0.77      0.77       143\n",
      "\n",
      "training accuracy: 0.9225352112676056\n",
      "validate accuracy: 0.7692307692307693\n",
      "---------------------------------------------------\n"
     ]
    },
    {
     "data": {
      "text/plain": [
       "DecisionTreeClassifier(max_depth=10, min_samples_split=3)"
      ]
     },
     "execution_count": 43,
     "metadata": {},
     "output_type": "execute_result"
    }
   ],
   "source": [
    "f_trainDecisionTree(p_max_depth = 10, p_min_samples_split = 3, p_min_samples_leaf = 1)"
   ]
  },
  {
   "cell_type": "code",
   "execution_count": 44,
   "id": "olympic-question",
   "metadata": {},
   "outputs": [
    {
     "name": "stdout",
     "output_type": "stream",
     "text": [
      "              precision    recall  f1-score   support\n",
      "\n",
      "           0       0.82      0.82      0.82        89\n",
      "           1       0.70      0.70      0.70        54\n",
      "\n",
      "    accuracy                           0.78       143\n",
      "   macro avg       0.76      0.76      0.76       143\n",
      "weighted avg       0.78      0.78      0.78       143\n",
      "\n",
      "training accuracy: 0.926056338028169\n",
      "validate accuracy: 0.7762237762237763\n",
      "---------------------------------------------------\n"
     ]
    },
    {
     "data": {
      "text/plain": [
       "DecisionTreeClassifier(max_depth=10, min_samples_split=4)"
      ]
     },
     "execution_count": 44,
     "metadata": {},
     "output_type": "execute_result"
    }
   ],
   "source": [
    "f_trainDecisionTree(p_max_depth = 10, p_min_samples_split = 4, p_min_samples_leaf = 1)"
   ]
  },
  {
   "cell_type": "code",
   "execution_count": 45,
   "id": "noted-change",
   "metadata": {},
   "outputs": [
    {
     "name": "stdout",
     "output_type": "stream",
     "text": [
      "              precision    recall  f1-score   support\n",
      "\n",
      "           0       0.88      0.81      0.84        96\n",
      "           1       0.67      0.77      0.71        47\n",
      "\n",
      "    accuracy                           0.80       143\n",
      "   macro avg       0.77      0.79      0.78       143\n",
      "weighted avg       0.81      0.80      0.80       143\n",
      "\n",
      "training accuracy: 0.8221830985915493\n",
      "validate accuracy: 0.7972027972027972\n",
      "---------------------------------------------------\n"
     ]
    }
   ],
   "source": [
    "resultado_dt = f_trainDecisionTree(p_max_depth = 4, p_min_samples_split = 3, p_min_samples_leaf = 15)"
   ]
  },
  {
   "cell_type": "code",
   "execution_count": 46,
   "id": "optical-perry",
   "metadata": {},
   "outputs": [
    {
     "data": {
      "text/plain": [
       "['f_trainDecisionTree(max_depth = 4, min_samples_split = 3, min_samples_leaf = 15).joblib']"
      ]
     },
     "execution_count": 46,
     "metadata": {},
     "output_type": "execute_result"
    }
   ],
   "source": [
    "dump(resultado_dt, \"f_trainDecisionTree(max_depth = 4, min_samples_split = 3, min_samples_leaf = 15).joblib\")"
   ]
  },
  {
   "cell_type": "code",
   "execution_count": 47,
   "id": "other-jason",
   "metadata": {},
   "outputs": [
    {
     "data": {
      "text/plain": [
       "DecisionTreeClassifier(max_depth=4, min_samples_leaf=15, min_samples_split=3)"
      ]
     },
     "execution_count": 47,
     "metadata": {},
     "output_type": "execute_result"
    }
   ],
   "source": [
    "resultado_dt"
   ]
  },
  {
   "cell_type": "markdown",
   "id": "relevant-adapter",
   "metadata": {},
   "source": [
    "### SVM con sklearn"
   ]
  },
  {
   "cell_type": "code",
   "execution_count": 48,
   "id": "coordinated-studio",
   "metadata": {},
   "outputs": [],
   "source": [
    "def f_trainSVM(p_C= 1.0, p_kernel = 'rbf'):\n",
    "    ## rbf = radial basis function\n",
    "    \n",
    "    fstring = './experimentos/'+\"SVM\"+datetime.datetime.now().strftime(\"%Y%m%d-%H%M%S\") + \"_C=\" + str(p_C) + \"_kernel=\" + p_kernel\n",
    "     \n",
    "    #logs = tensorboard_logger.Logger(fstring)\n",
    "    #tl.configure(fstring)\n",
    "    tlogs = tl.Logger(fstring)\n",
    "    \n",
    "    modeloSvm = svm.SVC(C=p_C, kernel=p_kernel)\n",
    "    modeloSvm.fit(x_train, y_train)\n",
    "    \n",
    "    # train accuracy\n",
    "    train_accuracy = modeloSvm.score(x_train, y_train)\n",
    "    tlogs.log_value('train_accuracy', train_accuracy, 1)\n",
    "\n",
    "    # Validation accuracy\n",
    "    val_accuracy = modeloSvm.score(x_val, y_val)\n",
    "    tlogs.log_value('val_accuracy', val_accuracy, 1)\n",
    "    \n",
    "    #SVM_preditcions_val \n",
    "    Y_pred = modeloSvm.predict(x_val)\n",
    "    \n",
    "    print(classification_report(Y_pred, y_val))\n",
    "    \n",
    "    print(\"training accuracy:\", train_accuracy)\n",
    "    print(\"validate accuracy:\", val_accuracy)\n",
    "    print(\"---------------------------------------------------\")\n",
    "    \n",
    "    return modeloSvm"
   ]
  },
  {
   "cell_type": "markdown",
   "id": "african-extent",
   "metadata": {},
   "source": [
    "### Entrenamientos"
   ]
  },
  {
   "cell_type": "code",
   "execution_count": 49,
   "id": "several-grenada",
   "metadata": {},
   "outputs": [
    {
     "name": "stdout",
     "output_type": "stream",
     "text": [
      "              precision    recall  f1-score   support\n",
      "\n",
      "           0       0.97      0.77      0.86       111\n",
      "           1       0.54      0.91      0.67        32\n",
      "\n",
      "    accuracy                           0.80       143\n",
      "   macro avg       0.75      0.84      0.77       143\n",
      "weighted avg       0.87      0.80      0.82       143\n",
      "\n",
      "training accuracy: 0.8133802816901409\n",
      "validate accuracy: 0.8041958041958042\n",
      "---------------------------------------------------\n"
     ]
    },
    {
     "data": {
      "text/plain": [
       "SVC()"
      ]
     },
     "execution_count": 49,
     "metadata": {},
     "output_type": "execute_result"
    }
   ],
   "source": [
    "f_trainSVM(p_C = 1.0, p_kernel = 'rbf')"
   ]
  },
  {
   "cell_type": "code",
   "execution_count": 50,
   "id": "fleet-integration",
   "metadata": {},
   "outputs": [
    {
     "name": "stdout",
     "output_type": "stream",
     "text": [
      "              precision    recall  f1-score   support\n",
      "\n",
      "           0       0.93      0.77      0.84       108\n",
      "           1       0.54      0.83      0.65        35\n",
      "\n",
      "    accuracy                           0.78       143\n",
      "   macro avg       0.73      0.80      0.75       143\n",
      "weighted avg       0.84      0.78      0.80       143\n",
      "\n",
      "training accuracy: 0.8221830985915493\n",
      "validate accuracy: 0.7832167832167832\n",
      "---------------------------------------------------\n"
     ]
    },
    {
     "data": {
      "text/plain": [
       "SVC(C=10.0)"
      ]
     },
     "execution_count": 50,
     "metadata": {},
     "output_type": "execute_result"
    }
   ],
   "source": [
    "f_trainSVM(p_C = 10.0, p_kernel = 'rbf')"
   ]
  },
  {
   "cell_type": "code",
   "execution_count": 51,
   "id": "advised-convergence",
   "metadata": {},
   "outputs": [
    {
     "name": "stdout",
     "output_type": "stream",
     "text": [
      "              precision    recall  f1-score   support\n",
      "\n",
      "           0       0.93      0.77      0.84       108\n",
      "           1       0.54      0.83      0.65        35\n",
      "\n",
      "    accuracy                           0.78       143\n",
      "   macro avg       0.73      0.80      0.75       143\n",
      "weighted avg       0.84      0.78      0.80       143\n",
      "\n",
      "training accuracy: 0.8221830985915493\n",
      "validate accuracy: 0.7832167832167832\n",
      "---------------------------------------------------\n"
     ]
    },
    {
     "data": {
      "text/plain": [
       "SVC(C=5.0)"
      ]
     },
     "execution_count": 51,
     "metadata": {},
     "output_type": "execute_result"
    }
   ],
   "source": [
    "f_trainSVM(p_C = 5.0, p_kernel = 'rbf')"
   ]
  },
  {
   "cell_type": "code",
   "execution_count": 52,
   "id": "cloudy-ottawa",
   "metadata": {},
   "outputs": [
    {
     "name": "stdout",
     "output_type": "stream",
     "text": [
      "              precision    recall  f1-score   support\n",
      "\n",
      "           0       0.96      0.77      0.85       110\n",
      "           1       0.54      0.88      0.67        33\n",
      "\n",
      "    accuracy                           0.80       143\n",
      "   macro avg       0.75      0.83      0.76       143\n",
      "weighted avg       0.86      0.80      0.81       143\n",
      "\n",
      "training accuracy: 0.8257042253521126\n",
      "validate accuracy: 0.7972027972027972\n",
      "---------------------------------------------------\n"
     ]
    },
    {
     "data": {
      "text/plain": [
       "SVC(C=2.0)"
      ]
     },
     "execution_count": 52,
     "metadata": {},
     "output_type": "execute_result"
    }
   ],
   "source": [
    "f_trainSVM(p_C = 2.0, p_kernel = 'rbf')"
   ]
  },
  {
   "cell_type": "code",
   "execution_count": 53,
   "id": "japanese-english",
   "metadata": {},
   "outputs": [
    {
     "name": "stdout",
     "output_type": "stream",
     "text": [
      "              precision    recall  f1-score   support\n",
      "\n",
      "           0       0.97      0.77      0.86       111\n",
      "           1       0.54      0.91      0.67        32\n",
      "\n",
      "    accuracy                           0.80       143\n",
      "   macro avg       0.75      0.84      0.77       143\n",
      "weighted avg       0.87      0.80      0.82       143\n",
      "\n",
      "training accuracy: 0.8133802816901409\n",
      "validate accuracy: 0.8041958041958042\n",
      "---------------------------------------------------\n"
     ]
    }
   ],
   "source": [
    "resultado_SVMClassifier = f_trainSVM(p_C = 1.0, p_kernel = 'rbf')"
   ]
  },
  {
   "cell_type": "code",
   "execution_count": 54,
   "id": "equal-standard",
   "metadata": {},
   "outputs": [
    {
     "data": {
      "text/plain": [
       "[\"f_trainSVM(C = 1, kernel = 'rbf').joblib\"]"
      ]
     },
     "execution_count": 54,
     "metadata": {},
     "output_type": "execute_result"
    }
   ],
   "source": [
    "dump(resultado_SVMClassifier, \"f_trainSVM(C = 1, kernel = 'rbf').joblib\")"
   ]
  },
  {
   "cell_type": "code",
   "execution_count": 55,
   "id": "convinced-server",
   "metadata": {},
   "outputs": [
    {
     "data": {
      "text/plain": [
       "SVC()"
      ]
     },
     "execution_count": 55,
     "metadata": {},
     "output_type": "execute_result"
    }
   ],
   "source": [
    "resultado_SVMClassifier"
   ]
  },
  {
   "cell_type": "markdown",
   "id": "southern-trader",
   "metadata": {},
   "source": [
    "## Regresión logística binaria(Sigmoid)  "
   ]
  },
  {
   "cell_type": "code",
   "execution_count": 56,
   "id": "polish-flesh",
   "metadata": {},
   "outputs": [
    {
     "name": "stdout",
     "output_type": "stream",
     "text": [
      "y_train_reshaped  (568, 1) y_train_reshaped (568, 1)\n",
      "x_train_reshaped (568, 13) x_val_reshaped (143, 13)\n"
     ]
    }
   ],
   "source": [
    "y_train_reshaped = np.array(y_train).reshape(-1,1)\n",
    "y_val_reshaped = np.array(y_val).reshape(-1,1)\n",
    "\n",
    "print(\"y_train_reshaped \",y_train_reshaped.shape, \"y_train_reshaped\", y_train_reshaped.shape)\n",
    "\n",
    "x_train_reshaped = np.insert(np.array(x_train),0, np.ones(len(x_train)), axis = 1)\n",
    "x_val_reshaped = np.insert(np.array(x_val),0, np.ones(len(x_val)), axis = 1)\n",
    "\n",
    "print(\"x_train_reshaped\",x_train_reshaped.shape, \"x_val_reshaped\", x_val_reshaped.shape)\n"
   ]
  },
  {
   "cell_type": "code",
   "execution_count": 57,
   "id": "excellent-switch",
   "metadata": {},
   "outputs": [],
   "source": [
    "class LogRegSigmoid:\n",
    "    \n",
    "    def __init__(self, x,  p_lambda, regularization):\n",
    "        # vector de weights\n",
    "        self.w = tf.get_variable(\"weights\", dtype = tf.float32, shape = [1,x.shape[1]], initializer = tf.zeros_initializer())\n",
    "        self.p_lambda = tf.constant(p_lambda, dtype = tf.float32)\n",
    "        self.regularization = regularization\n",
    "        \n",
    "    # Funcion logits\n",
    "    def logits(self, x):\n",
    "        with tf.name_scope(\"logits\"):\n",
    "            return tf.matmul(x, tf.transpose(self.w))\n",
    " \n",
    "    #Distribución de probabilidad\n",
    "    def predictModel(self, x):\n",
    "        sigmoid = tf.nn.sigmoid(self.logits(x))\n",
    "        predictions = tf.round(sigmoid)\n",
    "        return predictions\n",
    "    \n",
    "    # Obtiene la precisión\n",
    "    def getAccuracy(self, y_hat, y):\n",
    "        with tf.name_scope(\"accuracy\"):\n",
    "            accuracy = tf.equal(y_hat, y)\n",
    "            accuracy = tf.cast(accuracy, tf.int32)\n",
    "            accuracy = tf.divide(tf.reduce_sum(accuracy), tf.shape(y)[0])\n",
    "            return accuracy \n",
    "\n",
    "        # obtiene el error\n",
    "    def getLoss(self, x, y):\n",
    "        entropia_cruz = tf.reduce_mean(tf.nn.sigmoid_cross_entropy_with_logits(labels = y, logits = self.logits(x)))\n",
    "        \n",
    "        if self.regularization == 'lasso':\n",
    "            error = tf.add(entropia_cruz,tf.multiply(self.p_lambda, tf.reduce_sum(tf.abs(self.w))))\n",
    "        if self.regularization == 'ridge':\n",
    "            error = tf.add(entropia_cruz, tf.multiply(self.p_lambda, tf.sqrt(tf.reduce_sum(tf.square(self.w)))))\n",
    "        return error\n",
    "    \n",
    "    def actualiza(self, x_train, y_train, x_test, y_test, learningrate):\n",
    "        with tf.name_scope(\"error\"):\n",
    "            train_error = self.getLoss(x_train, y_train)\n",
    "            train_error_summary = tf.summary.scalar(\"TrainError\", train_error)\n",
    "            \n",
    "            test_error = self.getLoss(x_test, y_test)\n",
    "            test_error_summary = tf.summary.scalar(\"ValError\", test_error)\n",
    "            \n",
    "        with tf.name_scope(\"accuracy\"):\n",
    "            train_accuracy = self.getAccuracy(self.predictModel(x_train), y_train)\n",
    "            train_accuracy_summary = tf.summary.scalar(\"TrainAccuracy\", train_accuracy)\n",
    "            \n",
    "            test_accuracy = self.getAccuracy(self.predictModel(x_test), y_test)\n",
    "            test_accuracy_summary = tf.summary.scalar(\"ValAccuracy\", test_accuracy)\n",
    "        \n",
    "        # Actualiza los parámetros\n",
    "        gradient = tf.gradients(train_error, [self.w])\n",
    "        updated_w = tf.assign(self.w, self.w - learningrate * gradient[0])\n",
    "        \n",
    "        #return updated_w, train_error, train_accuracy\n",
    "        \n",
    "        return updated_w, train_error, test_error, train_accuracy, test_accuracy, train_error_summary, test_error_summary, train_accuracy_summary, test_accuracy_summary"
   ]
  },
  {
   "cell_type": "code",
   "execution_count": 58,
   "id": "digital-blast",
   "metadata": {},
   "outputs": [],
   "source": [
    "def f_train_LogRegSigmoid(lr, epochs, p_visual, x_train, x_test, labels_train, labels_test, batch_size, p_lambda, p_regula):\n",
    "    # String para definicion de experimento\n",
    "    string = './experimentos/LogReg'+ datetime.datetime.now().strftime(\"%Y%m%d-%H%M%S\") +\"_lr=\"+str(lr)+ \"_epochs=\"+str(epochs) + \"_bs=\" \\\n",
    "    + str(batch_size) + '_lambda=' + str(p_lambda) + \"_regularization=\" + p_regula\n",
    "\n",
    "    g = tf.Graph()\n",
    "    with g.as_default():\n",
    "        # Inicialización de objeto de clase LogisticRegressionSoftmax\n",
    "        modelo = LogRegSigmoid(x_train, p_lambda, p_regula)\n",
    "        \n",
    "        # Definicion de placeholders para input de data a grafo\n",
    "        with tf.name_scope(\"train_tensors\"):\n",
    "            tensor_x_train = tf.placeholder(tf.float32, [None,x_train.shape[1]], \"tensor_x_train\")\n",
    "            tensor_labels_train = tf.placeholder(tf.float32, [None,labels_train.shape[1]], \"tensor_labels_train\")\n",
    "            \n",
    "        with tf.name_scope(\"val_tensors\"):\n",
    "            tensor_x_test = tf.placeholder(tf.float32, [x_test.shape[0], x_test.shape[1]], \"tensor_x_val\")\n",
    "            tensor_labels_test = tf.placeholder(tf.float32, [labels_test.shape[0], labels_test.shape[1]], \"tensor_labels_val\")\n",
    "            \n",
    "        # Utilizacion de método update para hacer el entrenamiento\n",
    "        update_parameters = modelo.actualiza(tensor_x_train, tensor_labels_train, tensor_x_test, tensor_labels_test, lr)\n",
    "    \n",
    "        # Writer para utilizacion de tensorboard\n",
    "        writer = tf.summary.FileWriter(string, g)\n",
    "        \n",
    "        total_steps = int((labels_train.shape[0] / batch_size) * epochs)  \n",
    "        \n",
    "        with tf.train.MonitoredSession() as session:\n",
    "            \n",
    "            for i in range(total_steps + 1):\n",
    "                # Mini batch gradient descent with batch size 32\n",
    "                offset = (i * batch_size) % (labels_train.shape[0] - batch_size)\n",
    "                batch_data = x_train[offset:(offset + batch_size),]\n",
    "                batch_labels = labels_train[offset:(offset + batch_size),]\n",
    "                feed_dict = {tensor_x_train:batch_data, tensor_labels_train:batch_labels,tensor_x_test:x_test, tensor_labels_test:labels_test}\n",
    "                # Entrenamiento\n",
    "                training = session.run(update_parameters, feed_dict = feed_dict)\n",
    "                if (i)%p_visual == 0:\n",
    "                    # Cálculo de pesos para print por cada frecprint epocas\n",
    "                    weights = session.run(modelo.w, feed_dict = feed_dict)\n",
    "                    # Agregar datos a writer para poder visualizarlos en tensorboard\n",
    "                    writer.add_summary(training[5], i)\n",
    "                    writer.add_summary(training[6], i)\n",
    "                    writer.add_summary(training[7], i)\n",
    "                    writer.add_summary(training[8], i)\n",
    "                    print(\"Batch step:\", i, \"train error:\", training[1], \"train accuracy:\", training[3])\n",
    "                    print(\"Epoch:\", int(i//(labels_train.shape[0] / batch_size)+1), \"validation error:\", training[2], \"validation accuracy:\", training[4])\n",
    "                    print(\"-------------------------------------------------------------------------\")\n",
    "            \n",
    "            return weights\n",
    "\n",
    "            writer.close()"
   ]
  },
  {
   "cell_type": "markdown",
   "id": "treated-turner",
   "metadata": {},
   "source": [
    "### Entrenamientos"
   ]
  },
  {
   "cell_type": "code",
   "execution_count": 59,
   "id": "fifty-forestry",
   "metadata": {},
   "outputs": [
    {
     "name": "stdout",
     "output_type": "stream",
     "text": [
      "INFO:tensorflow:Graph was finalized.\n",
      "INFO:tensorflow:Running local_init_op.\n",
      "INFO:tensorflow:Done running local_init_op.\n",
      "Batch step: 0 train error: 0.6931472 train accuracy: 0.53125\n",
      "Epoch: 1 validation error: 0.69314736 validation accuracy: 0.6223776223776224\n",
      "-------------------------------------------------------------------------\n",
      "Batch step: 1000 train error: 0.552972 train accuracy: 0.75\n",
      "Epoch: 57 validation error: 0.53791684 validation accuracy: 0.7622377622377622\n",
      "-------------------------------------------------------------------------\n",
      "Batch step: 2000 train error: 0.40579835 train accuracy: 0.90625\n",
      "Epoch: 113 validation error: 0.5066307 validation accuracy: 0.7622377622377622\n",
      "-------------------------------------------------------------------------\n",
      "Batch step: 3000 train error: 0.502737 train accuracy: 0.8125\n",
      "Epoch: 170 validation error: 0.49402928 validation accuracy: 0.7762237762237763\n",
      "-------------------------------------------------------------------------\n",
      "Batch step: 4000 train error: 0.48799697 train accuracy: 0.78125\n",
      "Epoch: 226 validation error: 0.48826876 validation accuracy: 0.7832167832167832\n",
      "-------------------------------------------------------------------------\n",
      "Batch step: 5000 train error: 0.36689788 train accuracy: 0.78125\n",
      "Epoch: 282 validation error: 0.4856736 validation accuracy: 0.7762237762237763\n",
      "-------------------------------------------------------------------------\n",
      "Batch step: 6000 train error: 0.4281143 train accuracy: 0.84375\n",
      "Epoch: 339 validation error: 0.4846063 validation accuracy: 0.7762237762237763\n",
      "-------------------------------------------------------------------------\n",
      "Batch step: 7000 train error: 0.47837105 train accuracy: 0.78125\n",
      "Epoch: 395 validation error: 0.4840682 validation accuracy: 0.7692307692307693\n",
      "-------------------------------------------------------------------------\n",
      "Batch step: 8000 train error: 0.3520197 train accuracy: 0.8125\n",
      "Epoch: 451 validation error: 0.4839298 validation accuracy: 0.7692307692307693\n",
      "-------------------------------------------------------------------------\n",
      "Batch step: 9000 train error: 0.47699177 train accuracy: 0.84375\n",
      "Epoch: 508 validation error: 0.48402822 validation accuracy: 0.7622377622377622\n",
      "-------------------------------------------------------------------------\n",
      "Batch step: 10000 train error: 0.40171456 train accuracy: 0.8125\n",
      "Epoch: 564 validation error: 0.484169 validation accuracy: 0.7622377622377622\n",
      "-------------------------------------------------------------------------\n",
      "Batch step: 11000 train error: 0.3842734 train accuracy: 0.8125\n",
      "Epoch: 620 validation error: 0.4841919 validation accuracy: 0.7622377622377622\n",
      "-------------------------------------------------------------------------\n",
      "Batch step: 12000 train error: 0.5029315 train accuracy: 0.84375\n",
      "Epoch: 677 validation error: 0.4842927 validation accuracy: 0.7692307692307693\n",
      "-------------------------------------------------------------------------\n",
      "Batch step: 13000 train error: 0.34454745 train accuracy: 0.875\n",
      "Epoch: 733 validation error: 0.48448235 validation accuracy: 0.7622377622377622\n",
      "-------------------------------------------------------------------------\n",
      "Batch step: 14000 train error: 0.47080857 train accuracy: 0.78125\n",
      "Epoch: 789 validation error: 0.48450822 validation accuracy: 0.7692307692307693\n",
      "-------------------------------------------------------------------------\n",
      "Batch step: 15000 train error: 0.42913067 train accuracy: 0.75\n",
      "Epoch: 846 validation error: 0.4845748 validation accuracy: 0.7692307692307693\n",
      "-------------------------------------------------------------------------\n",
      "Batch step: 16000 train error: 0.42231333 train accuracy: 0.84375\n",
      "Epoch: 902 validation error: 0.48473573 validation accuracy: 0.7692307692307693\n",
      "-------------------------------------------------------------------------\n",
      "Batch step: 17000 train error: 0.5666182 train accuracy: 0.78125\n",
      "Epoch: 958 validation error: 0.4847259 validation accuracy: 0.7692307692307693\n",
      "-------------------------------------------------------------------------\n"
     ]
    },
    {
     "data": {
      "text/plain": [
       "array([[ 0.700467  , -0.2698397 , -0.07522886,  0.02277292,  1.0140586 ,\n",
       "        -2.549012  , -0.6322292 ,  0.5997151 ,  0.73297757,  0.4481191 ,\n",
       "         0.46129137, -0.20893964, -0.05245626]], dtype=float32)"
      ]
     },
     "execution_count": 59,
     "metadata": {},
     "output_type": "execute_result"
    }
   ],
   "source": [
    "#f_train_LogRegSigmoid(lr, epochs, p_visual, x_train, x_test, labels_train, labels_test, batch_size, p_lambda, p_regulariza):\n",
    "f_train_LogRegSigmoid(0.01, 1000, 1000, x_train_reshaped, x_val_reshaped, y_train_reshaped, y_val_reshaped, 32, 0, 'lasso')"
   ]
  },
  {
   "cell_type": "code",
   "execution_count": 60,
   "id": "liberal-bosnia",
   "metadata": {},
   "outputs": [
    {
     "name": "stdout",
     "output_type": "stream",
     "text": [
      "INFO:tensorflow:Graph was finalized.\n",
      "INFO:tensorflow:Running local_init_op.\n",
      "INFO:tensorflow:Done running local_init_op.\n",
      "Batch step: 0 train error: 0.6931472 train accuracy: 0.53125\n",
      "Epoch: 1 validation error: 0.69314736 validation accuracy: 0.6223776223776224\n",
      "-------------------------------------------------------------------------\n",
      "Batch step: 1000 train error: 0.71135324 train accuracy: 0.5\n",
      "Epoch: 57 validation error: 0.71070683 validation accuracy: 0.6223776223776224\n",
      "-------------------------------------------------------------------------\n",
      "Batch step: 2000 train error: 0.70765924 train accuracy: 0.21875\n",
      "Epoch: 113 validation error: 0.70730984 validation accuracy: 0.32167832167832167\n",
      "-------------------------------------------------------------------------\n",
      "Batch step: 3000 train error: 0.7087392 train accuracy: 0.65625\n",
      "Epoch: 170 validation error: 0.70915675 validation accuracy: 0.6363636363636364\n",
      "-------------------------------------------------------------------------\n",
      "Batch step: 4000 train error: 0.7115704 train accuracy: 0.5625\n",
      "Epoch: 226 validation error: 0.7109458 validation accuracy: 0.6993006993006993\n",
      "-------------------------------------------------------------------------\n",
      "Batch step: 5000 train error: 0.7078811 train accuracy: 0.65625\n",
      "Epoch: 282 validation error: 0.7078741 validation accuracy: 0.4965034965034965\n",
      "-------------------------------------------------------------------------\n",
      "Batch step: 6000 train error: 0.71345276 train accuracy: 0.65625\n",
      "Epoch: 339 validation error: 0.71315956 validation accuracy: 0.6643356643356644\n",
      "-------------------------------------------------------------------------\n",
      "Batch step: 7000 train error: 0.70613235 train accuracy: 0.75\n",
      "Epoch: 395 validation error: 0.70836747 validation accuracy: 0.6223776223776224\n",
      "-------------------------------------------------------------------------\n",
      "Batch step: 8000 train error: 0.71036375 train accuracy: 0.625\n",
      "Epoch: 451 validation error: 0.7107949 validation accuracy: 0.5944055944055944\n",
      "-------------------------------------------------------------------------\n",
      "Batch step: 9000 train error: 0.71255094 train accuracy: 0.5\n",
      "Epoch: 508 validation error: 0.71128345 validation accuracy: 0.6293706293706294\n",
      "-------------------------------------------------------------------------\n",
      "Batch step: 10000 train error: 0.7084672 train accuracy: 0.4375\n",
      "Epoch: 564 validation error: 0.70799315 validation accuracy: 0.5314685314685315\n",
      "-------------------------------------------------------------------------\n",
      "Batch step: 11000 train error: 0.7084596 train accuracy: 0.5625\n",
      "Epoch: 620 validation error: 0.7078424 validation accuracy: 0.6223776223776224\n",
      "-------------------------------------------------------------------------\n",
      "Batch step: 12000 train error: 0.7102117 train accuracy: 0.75\n",
      "Epoch: 677 validation error: 0.7106447 validation accuracy: 0.6923076923076923\n",
      "-------------------------------------------------------------------------\n",
      "Batch step: 13000 train error: 0.7069139 train accuracy: 0.71875\n",
      "Epoch: 733 validation error: 0.7075861 validation accuracy: 0.6363636363636364\n",
      "-------------------------------------------------------------------------\n",
      "Batch step: 14000 train error: 0.70986056 train accuracy: 0.5625\n",
      "Epoch: 789 validation error: 0.7096186 validation accuracy: 0.5734265734265734\n",
      "-------------------------------------------------------------------------\n",
      "Batch step: 15000 train error: 0.70395523 train accuracy: 0.71875\n",
      "Epoch: 846 validation error: 0.70445144 validation accuracy: 0.6503496503496503\n",
      "-------------------------------------------------------------------------\n",
      "Batch step: 16000 train error: 0.708777 train accuracy: 0.6875\n",
      "Epoch: 902 validation error: 0.70907974 validation accuracy: 0.6783216783216783\n",
      "-------------------------------------------------------------------------\n",
      "Batch step: 17000 train error: 0.7120472 train accuracy: 0.6875\n",
      "Epoch: 958 validation error: 0.7130079 validation accuracy: 0.6223776223776224\n",
      "-------------------------------------------------------------------------\n"
     ]
    },
    {
     "data": {
      "text/plain": [
       "array([[-0.0037081 , -0.00012666,  0.00102608, -0.00241592,  0.00320155,\n",
       "        -0.00564744, -0.00154544, -0.00054401, -0.00161868,  0.00431456,\n",
       "         0.00029065,  0.00168662, -0.00138982]], dtype=float32)"
      ]
     },
     "execution_count": 60,
     "metadata": {},
     "output_type": "execute_result"
    }
   ],
   "source": [
    "f_train_LogRegSigmoid(0.01, 1000, 1000, x_train_reshaped, x_val_reshaped, y_train_reshaped, y_val_reshaped, 32, 0.5, 'lasso')"
   ]
  },
  {
   "cell_type": "code",
   "execution_count": 61,
   "id": "unable-appendix",
   "metadata": {},
   "outputs": [
    {
     "name": "stdout",
     "output_type": "stream",
     "text": [
      "INFO:tensorflow:Graph was finalized.\n",
      "INFO:tensorflow:Running local_init_op.\n",
      "INFO:tensorflow:Done running local_init_op.\n",
      "Batch step: 0 train error: 0.6931472 train accuracy: 0.53125\n",
      "Epoch: 1 validation error: 0.69314736 validation accuracy: 0.6223776223776224\n",
      "-------------------------------------------------------------------------\n",
      "Batch step: 1000 train error: 0.65347296 train accuracy: 0.78125\n",
      "Epoch: 57 validation error: 0.63306075 validation accuracy: 0.7552447552447552\n",
      "-------------------------------------------------------------------------\n",
      "Batch step: 2000 train error: 0.567364 train accuracy: 0.875\n",
      "Epoch: 113 validation error: 0.62702924 validation accuracy: 0.7552447552447552\n",
      "-------------------------------------------------------------------------\n",
      "Batch step: 3000 train error: 0.60855573 train accuracy: 0.8125\n",
      "Epoch: 170 validation error: 0.62371576 validation accuracy: 0.7552447552447552\n",
      "-------------------------------------------------------------------------\n",
      "Batch step: 4000 train error: 0.65480405 train accuracy: 0.71875\n",
      "Epoch: 226 validation error: 0.62206423 validation accuracy: 0.7552447552447552\n",
      "-------------------------------------------------------------------------\n",
      "Batch step: 5000 train error: 0.56255937 train accuracy: 0.8125\n",
      "Epoch: 282 validation error: 0.6209685 validation accuracy: 0.7832167832167832\n",
      "-------------------------------------------------------------------------\n",
      "Batch step: 6000 train error: 0.590458 train accuracy: 0.84375\n",
      "Epoch: 339 validation error: 0.6204163 validation accuracy: 0.7832167832167832\n",
      "-------------------------------------------------------------------------\n",
      "Batch step: 7000 train error: 0.58921057 train accuracy: 0.75\n",
      "Epoch: 395 validation error: 0.6204816 validation accuracy: 0.7832167832167832\n",
      "-------------------------------------------------------------------------\n",
      "Batch step: 8000 train error: 0.5562268 train accuracy: 0.84375\n",
      "Epoch: 451 validation error: 0.62059826 validation accuracy: 0.7832167832167832\n",
      "-------------------------------------------------------------------------\n",
      "Batch step: 9000 train error: 0.6150347 train accuracy: 0.875\n",
      "Epoch: 508 validation error: 0.62057984 validation accuracy: 0.7832167832167832\n",
      "-------------------------------------------------------------------------\n",
      "Batch step: 10000 train error: 0.63545895 train accuracy: 0.8125\n",
      "Epoch: 564 validation error: 0.62068594 validation accuracy: 0.7832167832167832\n",
      "-------------------------------------------------------------------------\n",
      "Batch step: 11000 train error: 0.5922261 train accuracy: 0.875\n",
      "Epoch: 620 validation error: 0.6207596 validation accuracy: 0.7832167832167832\n",
      "-------------------------------------------------------------------------\n",
      "Batch step: 12000 train error: 0.63829386 train accuracy: 0.71875\n",
      "Epoch: 677 validation error: 0.62081337 validation accuracy: 0.7832167832167832\n",
      "-------------------------------------------------------------------------\n",
      "Batch step: 13000 train error: 0.54402477 train accuracy: 0.875\n",
      "Epoch: 733 validation error: 0.6206948 validation accuracy: 0.7832167832167832\n",
      "-------------------------------------------------------------------------\n",
      "Batch step: 14000 train error: 0.6197332 train accuracy: 0.78125\n",
      "Epoch: 789 validation error: 0.6207419 validation accuracy: 0.7832167832167832\n",
      "-------------------------------------------------------------------------\n",
      "Batch step: 15000 train error: 0.61634535 train accuracy: 0.75\n",
      "Epoch: 846 validation error: 0.62070197 validation accuracy: 0.7832167832167832\n",
      "-------------------------------------------------------------------------\n",
      "Batch step: 16000 train error: 0.56167424 train accuracy: 0.875\n",
      "Epoch: 902 validation error: 0.620687 validation accuracy: 0.7832167832167832\n",
      "-------------------------------------------------------------------------\n",
      "Batch step: 17000 train error: 0.62176174 train accuracy: 0.75\n",
      "Epoch: 958 validation error: 0.6206801 validation accuracy: 0.7832167832167832\n",
      "-------------------------------------------------------------------------\n"
     ]
    },
    {
     "data": {
      "text/plain": [
       "array([[-6.9022458e-04, -4.4347334e-04,  3.5072971e-04,  8.9695008e-05,\n",
       "         2.3810703e-01, -1.1550452e+00, -2.3834887e-03,  7.3406770e-04,\n",
       "         1.2295967e-01, -4.9558276e-04, -4.1977721e-05, -1.5272660e-04,\n",
       "         4.4042143e-04]], dtype=float32)"
      ]
     },
     "execution_count": 61,
     "metadata": {},
     "output_type": "execute_result"
    }
   ],
   "source": [
    "f_train_LogRegSigmoid(0.01, 1000, 1000, x_train_reshaped, x_val_reshaped, y_train_reshaped, y_val_reshaped, 32, 0.05, 'lasso')"
   ]
  },
  {
   "cell_type": "code",
   "execution_count": 62,
   "id": "understood-perth",
   "metadata": {},
   "outputs": [
    {
     "name": "stdout",
     "output_type": "stream",
     "text": [
      "INFO:tensorflow:Graph was finalized.\n",
      "INFO:tensorflow:Running local_init_op.\n",
      "INFO:tensorflow:Done running local_init_op.\n",
      "Batch step: 0 train error: 0.6931472 train accuracy: 0.53125\n",
      "Epoch: 1 validation error: 0.69314736 validation accuracy: 0.6223776223776224\n",
      "-------------------------------------------------------------------------\n",
      "Batch step: 1000 train error: 0.66223073 train accuracy: 0.5\n",
      "Epoch: 57 validation error: 0.6373795 validation accuracy: 0.6363636363636364\n",
      "-------------------------------------------------------------------------\n",
      "Batch step: 2000 train error: 0.5527469 train accuracy: 0.78125\n",
      "Epoch: 113 validation error: 0.61260086 validation accuracy: 0.6643356643356644\n",
      "-------------------------------------------------------------------------\n",
      "Batch step: 3000 train error: 0.5797472 train accuracy: 0.75\n",
      "Epoch: 170 validation error: 0.5963649 validation accuracy: 0.6993006993006993\n",
      "-------------------------------------------------------------------------\n",
      "Batch step: 4000 train error: 0.57409376 train accuracy: 0.71875\n",
      "Epoch: 226 validation error: 0.5837169 validation accuracy: 0.7272727272727273\n",
      "-------------------------------------------------------------------------\n",
      "Batch step: 5000 train error: 0.4911656 train accuracy: 0.8125\n",
      "Epoch: 282 validation error: 0.57317346 validation accuracy: 0.7412587412587412\n",
      "-------------------------------------------------------------------------\n",
      "Batch step: 6000 train error: 0.55567855 train accuracy: 0.75\n",
      "Epoch: 339 validation error: 0.56414104 validation accuracy: 0.7552447552447552\n",
      "-------------------------------------------------------------------------\n",
      "Batch step: 7000 train error: 0.49442255 train accuracy: 0.875\n",
      "Epoch: 395 validation error: 0.55628836 validation accuracy: 0.7552447552447552\n",
      "-------------------------------------------------------------------------\n",
      "Batch step: 8000 train error: 0.47048432 train accuracy: 0.8125\n",
      "Epoch: 451 validation error: 0.549425 validation accuracy: 0.7622377622377622\n",
      "-------------------------------------------------------------------------\n",
      "Batch step: 9000 train error: 0.5859921 train accuracy: 0.6875\n",
      "Epoch: 508 validation error: 0.54337704 validation accuracy: 0.7552447552447552\n",
      "-------------------------------------------------------------------------\n",
      "Batch step: 10000 train error: 0.5212842 train accuracy: 0.8125\n",
      "Epoch: 564 validation error: 0.5380071 validation accuracy: 0.7622377622377622\n",
      "-------------------------------------------------------------------------\n",
      "Batch step: 11000 train error: 0.50304306 train accuracy: 0.75\n",
      "Epoch: 620 validation error: 0.5332217 validation accuracy: 0.7692307692307693\n",
      "-------------------------------------------------------------------------\n",
      "Batch step: 12000 train error: 0.5186126 train accuracy: 0.78125\n",
      "Epoch: 677 validation error: 0.52894825 validation accuracy: 0.7692307692307693\n",
      "-------------------------------------------------------------------------\n",
      "Batch step: 13000 train error: 0.43451476 train accuracy: 0.875\n",
      "Epoch: 733 validation error: 0.52510947 validation accuracy: 0.7762237762237763\n",
      "-------------------------------------------------------------------------\n",
      "Batch step: 14000 train error: 0.50358385 train accuracy: 0.8125\n",
      "Epoch: 789 validation error: 0.5216412 validation accuracy: 0.7622377622377622\n",
      "-------------------------------------------------------------------------\n",
      "Batch step: 15000 train error: 0.47152376 train accuracy: 0.78125\n",
      "Epoch: 846 validation error: 0.51851225 validation accuracy: 0.7552447552447552\n",
      "-------------------------------------------------------------------------\n",
      "Batch step: 16000 train error: 0.48066294 train accuracy: 0.75\n",
      "Epoch: 902 validation error: 0.5156812 validation accuracy: 0.7552447552447552\n",
      "-------------------------------------------------------------------------\n",
      "Batch step: 17000 train error: 0.5361414 train accuracy: 0.8125\n",
      "Epoch: 958 validation error: 0.51309454 validation accuracy: 0.7552447552447552\n",
      "-------------------------------------------------------------------------\n"
     ]
    },
    {
     "data": {
      "text/plain": [
       "array([[ 2.4644367e-01, -2.3225136e-01,  1.1469810e-03,  1.6568821e-02,\n",
       "         5.5982685e-01, -1.2791573e+00, -4.8314050e-01,  2.7475747e-01,\n",
       "         4.5482808e-01,  2.6194021e-01,  1.1831223e-01, -1.3380831e-01,\n",
       "         1.7715821e-02]], dtype=float32)"
      ]
     },
     "execution_count": 62,
     "metadata": {},
     "output_type": "execute_result"
    }
   ],
   "source": [
    "#f_train_LogRegSigmoid(lr, epochs, frecprint, x_train, x_test, labels_train, labels_test, batch_size, p_lambda, p_regulariza):\n",
    "f_train_LogRegSigmoid(0.001, 1000, 1000, x_train_reshaped, x_val_reshaped, y_train_reshaped, y_val_reshaped, 32, 0, 'lasso')"
   ]
  },
  {
   "cell_type": "code",
   "execution_count": 63,
   "id": "powered-colon",
   "metadata": {},
   "outputs": [
    {
     "name": "stdout",
     "output_type": "stream",
     "text": [
      "INFO:tensorflow:Graph was finalized.\n",
      "INFO:tensorflow:Running local_init_op.\n",
      "INFO:tensorflow:Done running local_init_op.\n",
      "Batch step: 0 train error: 0.6931472 train accuracy: 0.53125\n",
      "Epoch: 1 validation error: 0.69314736 validation accuracy: 0.6223776223776224\n",
      "-------------------------------------------------------------------------\n",
      "Batch step: 10000 train error: 0.69175184 train accuracy: 0.46875\n",
      "Epoch: 564 validation error: 0.66199905 validation accuracy: 0.6223776223776224\n",
      "-------------------------------------------------------------------------\n",
      "Batch step: 20000 train error: 0.6883253 train accuracy: 0.4375\n",
      "Epoch: 1127 validation error: 0.66191643 validation accuracy: 0.6293706293706294\n",
      "-------------------------------------------------------------------------\n",
      "Batch step: 30000 train error: 0.70484126 train accuracy: 0.4375\n",
      "Epoch: 1691 validation error: 0.66187215 validation accuracy: 0.6223776223776224\n",
      "-------------------------------------------------------------------------\n",
      "Batch step: 40000 train error: 0.69606674 train accuracy: 0.8125\n",
      "Epoch: 2254 validation error: 0.66176134 validation accuracy: 0.7762237762237763\n",
      "-------------------------------------------------------------------------\n",
      "Batch step: 50000 train error: 0.65541416 train accuracy: 0.78125\n",
      "Epoch: 2817 validation error: 0.6622265 validation accuracy: 0.7832167832167832\n",
      "-------------------------------------------------------------------------\n",
      "Batch step: 60000 train error: 0.663287 train accuracy: 0.75\n",
      "Epoch: 3381 validation error: 0.66204077 validation accuracy: 0.7832167832167832\n",
      "-------------------------------------------------------------------------\n",
      "Batch step: 70000 train error: 0.6497656 train accuracy: 0.78125\n",
      "Epoch: 3944 validation error: 0.6620301 validation accuracy: 0.7902097902097902\n",
      "-------------------------------------------------------------------------\n",
      "Batch step: 80000 train error: 0.6109149 train accuracy: 0.875\n",
      "Epoch: 4508 validation error: 0.66206443 validation accuracy: 0.7832167832167832\n",
      "-------------------------------------------------------------------------\n",
      "Batch step: 90000 train error: 0.68061215 train accuracy: 0.6875\n",
      "Epoch: 5071 validation error: 0.6618708 validation accuracy: 0.6993006993006993\n",
      "-------------------------------------------------------------------------\n",
      "Batch step: 100000 train error: 0.65567887 train accuracy: 0.71875\n",
      "Epoch: 5634 validation error: 0.661884 validation accuracy: 0.6783216783216783\n",
      "-------------------------------------------------------------------------\n",
      "Batch step: 110000 train error: 0.67208266 train accuracy: 0.625\n",
      "Epoch: 6198 validation error: 0.66167516 validation accuracy: 0.6643356643356644\n",
      "-------------------------------------------------------------------------\n",
      "Batch step: 120000 train error: 0.6922573 train accuracy: 0.5625\n",
      "Epoch: 6761 validation error: 0.66199756 validation accuracy: 0.6223776223776224\n",
      "-------------------------------------------------------------------------\n",
      "Batch step: 130000 train error: 0.6381054 train accuracy: 0.6875\n",
      "Epoch: 7324 validation error: 0.6615707 validation accuracy: 0.7272727272727273\n",
      "-------------------------------------------------------------------------\n",
      "Batch step: 140000 train error: 0.6465346 train accuracy: 0.625\n",
      "Epoch: 7888 validation error: 0.6617387 validation accuracy: 0.6573426573426573\n",
      "-------------------------------------------------------------------------\n",
      "Batch step: 150000 train error: 0.62157196 train accuracy: 0.8125\n",
      "Epoch: 8451 validation error: 0.6616558 validation accuracy: 0.7832167832167832\n",
      "-------------------------------------------------------------------------\n",
      "Batch step: 160000 train error: 0.6299599 train accuracy: 0.875\n",
      "Epoch: 9015 validation error: 0.66181844 validation accuracy: 0.7762237762237763\n",
      "-------------------------------------------------------------------------\n",
      "Batch step: 170000 train error: 0.67215306 train accuracy: 0.5625\n",
      "Epoch: 9578 validation error: 0.6618463 validation accuracy: 0.6223776223776224\n",
      "-------------------------------------------------------------------------\n"
     ]
    },
    {
     "data": {
      "text/plain": [
       "array([[ 8.8790967e-04,  5.1621289e-04, -2.4746166e-04,  1.6288646e-04,\n",
       "         3.5619072e-04, -6.2677336e-01, -8.7885879e-04,  1.4108082e-04,\n",
       "         1.6255553e-03,  7.6016545e-04, -2.9875315e-05,  1.5729578e-04,\n",
       "        -8.4554660e-05]], dtype=float32)"
      ]
     },
     "execution_count": 63,
     "metadata": {},
     "output_type": "execute_result"
    }
   ],
   "source": [
    "f_train_LogRegSigmoid(0.01, 10000, 10000, x_train_reshaped, x_val_reshaped, y_train_reshaped, y_val_reshaped, 32, 0.10, 'lasso')"
   ]
  },
  {
   "cell_type": "code",
   "execution_count": 64,
   "id": "referenced-cooperation",
   "metadata": {},
   "outputs": [
    {
     "name": "stdout",
     "output_type": "stream",
     "text": [
      "INFO:tensorflow:Graph was finalized.\n",
      "INFO:tensorflow:Running local_init_op.\n",
      "INFO:tensorflow:Done running local_init_op.\n",
      "Batch step: 0 train error: 0.6931472 train accuracy: 0.53125\n",
      "Epoch: 1 validation error: 0.69314736 validation accuracy: 0.6223776223776224\n",
      "-------------------------------------------------------------------------\n",
      "Batch step: 10000 train error: 0.70241886 train accuracy: 0.46875\n",
      "Epoch: 564 validation error: 0.68668455 validation accuracy: 0.6223776223776224\n",
      "-------------------------------------------------------------------------\n",
      "Batch step: 20000 train error: 0.70134217 train accuracy: 0.4375\n",
      "Epoch: 1127 validation error: 0.6859342 validation accuracy: 0.6223776223776224\n",
      "-------------------------------------------------------------------------\n",
      "Batch step: 30000 train error: 0.7097057 train accuracy: 0.46875\n",
      "Epoch: 1691 validation error: 0.6864762 validation accuracy: 0.6223776223776224\n",
      "-------------------------------------------------------------------------\n",
      "Batch step: 40000 train error: 0.7050718 train accuracy: 0.65625\n",
      "Epoch: 2254 validation error: 0.68604255 validation accuracy: 0.7202797202797203\n",
      "-------------------------------------------------------------------------\n",
      "Batch step: 50000 train error: 0.68468213 train accuracy: 0.8125\n",
      "Epoch: 2817 validation error: 0.6861232 validation accuracy: 0.7552447552447552\n",
      "-------------------------------------------------------------------------\n",
      "Batch step: 60000 train error: 0.6882447 train accuracy: 0.84375\n",
      "Epoch: 3381 validation error: 0.685806 validation accuracy: 0.7412587412587412\n",
      "-------------------------------------------------------------------------\n",
      "Batch step: 70000 train error: 0.6813389 train accuracy: 0.78125\n",
      "Epoch: 3944 validation error: 0.686158 validation accuracy: 0.7692307692307693\n",
      "-------------------------------------------------------------------------\n",
      "Batch step: 80000 train error: 0.66371757 train accuracy: 0.875\n",
      "Epoch: 4508 validation error: 0.6861165 validation accuracy: 0.7832167832167832\n",
      "-------------------------------------------------------------------------\n",
      "Batch step: 90000 train error: 0.6945002 train accuracy: 0.5625\n",
      "Epoch: 5071 validation error: 0.6858824 validation accuracy: 0.6223776223776224\n",
      "-------------------------------------------------------------------------\n",
      "Batch step: 100000 train error: 0.6822129 train accuracy: 0.65625\n",
      "Epoch: 5634 validation error: 0.6860658 validation accuracy: 0.6223776223776224\n",
      "-------------------------------------------------------------------------\n",
      "Batch step: 110000 train error: 0.6904879 train accuracy: 0.625\n",
      "Epoch: 6198 validation error: 0.686015 validation accuracy: 0.6573426573426573\n",
      "-------------------------------------------------------------------------\n",
      "Batch step: 120000 train error: 0.6998454 train accuracy: 0.5625\n",
      "Epoch: 6761 validation error: 0.6861611 validation accuracy: 0.6223776223776224\n",
      "-------------------------------------------------------------------------\n",
      "Batch step: 130000 train error: 0.67708355 train accuracy: 0.75\n",
      "Epoch: 7324 validation error: 0.6867062 validation accuracy: 0.7482517482517482\n",
      "-------------------------------------------------------------------------\n",
      "Batch step: 140000 train error: 0.68041 train accuracy: 0.65625\n",
      "Epoch: 7888 validation error: 0.6859864 validation accuracy: 0.6783216783216783\n",
      "-------------------------------------------------------------------------\n",
      "Batch step: 150000 train error: 0.66845584 train accuracy: 0.65625\n",
      "Epoch: 8451 validation error: 0.6863383 validation accuracy: 0.6293706293706294\n",
      "-------------------------------------------------------------------------\n",
      "Batch step: 160000 train error: 0.6727045 train accuracy: 0.8125\n",
      "Epoch: 9015 validation error: 0.68634135 validation accuracy: 0.7622377622377622\n",
      "-------------------------------------------------------------------------\n",
      "Batch step: 170000 train error: 0.69058293 train accuracy: 0.625\n",
      "Epoch: 9578 validation error: 0.686149 validation accuracy: 0.6573426573426573\n",
      "-------------------------------------------------------------------------\n"
     ]
    },
    {
     "data": {
      "text/plain": [
       "array([[ 5.4087851e-04,  4.4713786e-05,  3.0571991e-04,  5.1626225e-04,\n",
       "        -2.3768895e-04, -2.8121045e-01, -1.3737381e-03,  1.4827255e-03,\n",
       "         4.3182250e-04, -8.5367489e-04, -7.0060941e-04, -9.0481329e-04,\n",
       "         8.2198402e-04]], dtype=float32)"
      ]
     },
     "execution_count": 64,
     "metadata": {},
     "output_type": "execute_result"
    }
   ],
   "source": [
    "f_train_LogRegSigmoid(0.01, 10000, 10000, x_train_reshaped, x_val_reshaped, y_train_reshaped, y_val_reshaped, 32, 0.15, 'lasso')"
   ]
  },
  {
   "cell_type": "code",
   "execution_count": 65,
   "id": "wireless-refrigerator",
   "metadata": {},
   "outputs": [
    {
     "name": "stdout",
     "output_type": "stream",
     "text": [
      "INFO:tensorflow:Graph was finalized.\n",
      "INFO:tensorflow:Running local_init_op.\n",
      "INFO:tensorflow:Done running local_init_op.\n",
      "Batch step: 0 train error: 0.6931472 train accuracy: 0.53125\n",
      "Epoch: 1 validation error: 0.69314736 validation accuracy: 0.6223776223776224\n",
      "-------------------------------------------------------------------------\n",
      "Batch step: 10000 train error: 0.63545895 train accuracy: 0.8125\n",
      "Epoch: 564 validation error: 0.62068594 validation accuracy: 0.7832167832167832\n",
      "-------------------------------------------------------------------------\n",
      "Batch step: 20000 train error: 0.6280991 train accuracy: 0.84375\n",
      "Epoch: 1127 validation error: 0.62079173 validation accuracy: 0.7832167832167832\n",
      "-------------------------------------------------------------------------\n",
      "Batch step: 30000 train error: 0.65770084 train accuracy: 0.78125\n",
      "Epoch: 1691 validation error: 0.6207374 validation accuracy: 0.7832167832167832\n",
      "-------------------------------------------------------------------------\n",
      "Batch step: 40000 train error: 0.6563879 train accuracy: 0.78125\n",
      "Epoch: 2254 validation error: 0.62074995 validation accuracy: 0.7832167832167832\n",
      "-------------------------------------------------------------------------\n",
      "Batch step: 50000 train error: 0.6140922 train accuracy: 0.78125\n",
      "Epoch: 2817 validation error: 0.62084043 validation accuracy: 0.7832167832167832\n",
      "-------------------------------------------------------------------------\n",
      "Batch step: 60000 train error: 0.62666225 train accuracy: 0.75\n",
      "Epoch: 3381 validation error: 0.62072825 validation accuracy: 0.7832167832167832\n",
      "-------------------------------------------------------------------------\n",
      "Batch step: 70000 train error: 0.6139246 train accuracy: 0.78125\n",
      "Epoch: 3944 validation error: 0.62075406 validation accuracy: 0.7832167832167832\n",
      "-------------------------------------------------------------------------\n",
      "Batch step: 80000 train error: 0.54436105 train accuracy: 0.875\n",
      "Epoch: 4508 validation error: 0.62077993 validation accuracy: 0.7832167832167832\n",
      "-------------------------------------------------------------------------\n",
      "Batch step: 90000 train error: 0.6517903 train accuracy: 0.78125\n",
      "Epoch: 5071 validation error: 0.6207292 validation accuracy: 0.7832167832167832\n",
      "-------------------------------------------------------------------------\n",
      "Batch step: 100000 train error: 0.62430805 train accuracy: 0.78125\n",
      "Epoch: 5634 validation error: 0.62071514 validation accuracy: 0.7832167832167832\n",
      "-------------------------------------------------------------------------\n",
      "Batch step: 110000 train error: 0.6345503 train accuracy: 0.78125\n",
      "Epoch: 6198 validation error: 0.62074643 validation accuracy: 0.7832167832167832\n",
      "-------------------------------------------------------------------------\n",
      "Batch step: 120000 train error: 0.6736939 train accuracy: 0.75\n",
      "Epoch: 6761 validation error: 0.6206863 validation accuracy: 0.7832167832167832\n",
      "-------------------------------------------------------------------------\n",
      "Batch step: 130000 train error: 0.5819135 train accuracy: 0.84375\n",
      "Epoch: 7324 validation error: 0.62076116 validation accuracy: 0.7832167832167832\n",
      "-------------------------------------------------------------------------\n",
      "Batch step: 140000 train error: 0.5894984 train accuracy: 0.84375\n",
      "Epoch: 7888 validation error: 0.6206838 validation accuracy: 0.7832167832167832\n",
      "-------------------------------------------------------------------------\n",
      "Batch step: 150000 train error: 0.5615892 train accuracy: 0.875\n",
      "Epoch: 8451 validation error: 0.6206509 validation accuracy: 0.7832167832167832\n",
      "-------------------------------------------------------------------------\n",
      "Batch step: 160000 train error: 0.55873567 train accuracy: 0.875\n",
      "Epoch: 9015 validation error: 0.62076086 validation accuracy: 0.7832167832167832\n",
      "-------------------------------------------------------------------------\n",
      "Batch step: 170000 train error: 0.6272235 train accuracy: 0.8125\n",
      "Epoch: 9578 validation error: 0.6206536 validation accuracy: 0.7832167832167832\n",
      "-------------------------------------------------------------------------\n"
     ]
    }
   ],
   "source": [
    "resultado_LogRegSigmoid = f_train_LogRegSigmoid(0.01, 10000, 10000, x_train_reshaped, x_val_reshaped, y_train_reshaped, y_val_reshaped, 32, 0.05, 'lasso')"
   ]
  },
  {
   "cell_type": "code",
   "execution_count": 66,
   "id": "proprietary-adult",
   "metadata": {},
   "outputs": [
    {
     "data": {
      "text/plain": [
       "[\"f_train_LogRegSigmoid(0.01, 10000, 10000, X_train_reshaped, X_val_reshaped, y_train_reshaped, y_val_reshaped, 32, 0.05, 'lasso').joblib\"]"
      ]
     },
     "execution_count": 66,
     "metadata": {},
     "output_type": "execute_result"
    }
   ],
   "source": [
    "dump(resultado_LogRegSigmoid, \"f_train_LogRegSigmoid(0.01, 10000, 10000, X_train_reshaped, X_val_reshaped, y_train_reshaped, y_val_reshaped, 32, 0.05, 'lasso').joblib\")"
   ]
  },
  {
   "cell_type": "code",
   "execution_count": 67,
   "id": "israeli-travel",
   "metadata": {},
   "outputs": [],
   "source": [
    "#currDate = datetime.datetime.now()\n",
    "#experimento_to_csv('resultado_LogRegSigmoid.csv',[currDate, '\"f_train_LogRegSigmoid(0.01, 10000, 10000, X_train_reshaped, X_val_reshaped, y_train_reshaped, y_val_reshaped, 32, 0.05, ''''lasso'''')\"',resultado_LogRegSigmoid])"
   ]
  },
  {
   "cell_type": "markdown",
   "id": "encouraging-executive",
   "metadata": {},
   "source": [
    "## Probando el dataset Test"
   ]
  },
  {
   "cell_type": "code",
   "execution_count": 68,
   "id": "stylish-wellington",
   "metadata": {},
   "outputs": [],
   "source": [
    "predict_DT = resultado_dt.predict(x_test)\n",
    "\n",
    "predict_SVM = resultado_SVMClassifier.predict(x_test)"
   ]
  },
  {
   "cell_type": "code",
   "execution_count": 69,
   "id": "headed-humanity",
   "metadata": {},
   "outputs": [],
   "source": [
    "x_test_reshaped = np.insert(np.array(x_test),0, np.ones(len(x_test)), axis = 1)"
   ]
  },
  {
   "cell_type": "code",
   "execution_count": 70,
   "id": "occasional-chest",
   "metadata": {},
   "outputs": [],
   "source": [
    "def predict_LogReg(x_test, weights):\n",
    "    \n",
    "    tf.reset_default_graph()\n",
    "    \n",
    "    tensor_w = tf.placeholder(tf.float32, shape = [None, None], name = \"tensor_w\")\n",
    "    tensor_x = tf.placeholder(tf.float32, shape = [None, None], name = \"tensor_x\")\n",
    "    \n",
    "    logits = tf.matmul(tensor_x, tf.transpose(tensor_w))\n",
    "    sigmoid = tf.nn.sigmoid(logits)\n",
    "    prediction = tf.round(sigmoid)\n",
    "    \n",
    "    with tf.train.MonitoredSession() as session:\n",
    "        feed_dictionary = {tensor_x: x_test, tensor_w:weights}\n",
    "        \n",
    "        predictions = session.run(prediction, feed_dict= feed_dictionary)\n",
    "        \n",
    "        return predictions.T"
   ]
  },
  {
   "cell_type": "code",
   "execution_count": 75,
   "id": "lesbian-array",
   "metadata": {},
   "outputs": [
    {
     "name": "stdout",
     "output_type": "stream",
     "text": [
      "INFO:tensorflow:Graph was finalized.\n",
      "INFO:tensorflow:Running local_init_op.\n",
      "INFO:tensorflow:Done running local_init_op.\n"
     ]
    }
   ],
   "source": [
    "predict_lr = predict_LogReg(x_test_reshaped, resultado_LogRegSigmoid)\n",
    "\n",
    "predict_lr = predict_lr.squeeze()"
   ]
  },
  {
   "cell_type": "code",
   "execution_count": 76,
   "id": "surface-meaning",
   "metadata": {},
   "outputs": [
    {
     "name": "stdout",
     "output_type": "stream",
     "text": [
      "(178,)\n",
      "(178,)\n",
      "(178,)\n"
     ]
    }
   ],
   "source": [
    "print(predict_DT.shape)\n",
    "print(predict_SVM.shape)\n",
    "print(predict_lr.shape)"
   ]
  },
  {
   "cell_type": "code",
   "execution_count": 77,
   "id": "threatened-radius",
   "metadata": {},
   "outputs": [],
   "source": [
    "combo_predicciones = np.stack((predict_DT, predict_SVM, predict_lr)).T"
   ]
  },
  {
   "cell_type": "code",
   "execution_count": 78,
   "id": "monthly-scheduling",
   "metadata": {},
   "outputs": [],
   "source": [
    "predicciones =  scipy.stats.mode(combo_predicciones.T)[0].squeeze()"
   ]
  },
  {
   "cell_type": "code",
   "execution_count": 79,
   "id": "loved-mechanism",
   "metadata": {},
   "outputs": [],
   "source": [
    "x_test['passenger_survived'] = y_test\n",
    "\n",
    "x_test['survived'] = predicciones"
   ]
  },
  {
   "cell_type": "code",
   "execution_count": 81,
   "id": "improved-endorsement",
   "metadata": {
    "scrolled": true
   },
   "outputs": [
    {
     "data": {
      "text/html": [
       "<div>\n",
       "<style scoped>\n",
       "    .dataframe tbody tr th:only-of-type {\n",
       "        vertical-align: middle;\n",
       "    }\n",
       "\n",
       "    .dataframe tbody tr th {\n",
       "        vertical-align: top;\n",
       "    }\n",
       "\n",
       "    .dataframe thead th {\n",
       "        text-align: right;\n",
       "    }\n",
       "</style>\n",
       "<table border=\"1\" class=\"dataframe\">\n",
       "  <thead>\n",
       "    <tr style=\"text-align: right;\">\n",
       "      <th></th>\n",
       "      <th>Age</th>\n",
       "      <th>SibSp</th>\n",
       "      <th>Parch</th>\n",
       "      <th>Fare</th>\n",
       "      <th>passenger_sex</th>\n",
       "      <th>Low_class</th>\n",
       "      <th>Mid_class</th>\n",
       "      <th>Upp_class</th>\n",
       "      <th>Emb_C</th>\n",
       "      <th>Emb_Q</th>\n",
       "      <th>Emb_S</th>\n",
       "      <th>MiembrosFam</th>\n",
       "      <th>passenger_survived</th>\n",
       "      <th>survived</th>\n",
       "    </tr>\n",
       "  </thead>\n",
       "  <tbody>\n",
       "    <tr>\n",
       "      <th>630</th>\n",
       "      <td>0.936329</td>\n",
       "      <td>0.0</td>\n",
       "      <td>0.000000</td>\n",
       "      <td>0.351123</td>\n",
       "      <td>1</td>\n",
       "      <td>0.0</td>\n",
       "      <td>0.0</td>\n",
       "      <td>1.0</td>\n",
       "      <td>0.0</td>\n",
       "      <td>0.0</td>\n",
       "      <td>1.0</td>\n",
       "      <td>0.000000</td>\n",
       "      <td>1</td>\n",
       "      <td>0.0</td>\n",
       "    </tr>\n",
       "    <tr>\n",
       "      <th>640</th>\n",
       "      <td>0.930798</td>\n",
       "      <td>0.0</td>\n",
       "      <td>0.000000</td>\n",
       "      <td>0.365534</td>\n",
       "      <td>1</td>\n",
       "      <td>1.0</td>\n",
       "      <td>0.0</td>\n",
       "      <td>0.0</td>\n",
       "      <td>0.0</td>\n",
       "      <td>0.0</td>\n",
       "      <td>1.0</td>\n",
       "      <td>0.000000</td>\n",
       "      <td>0</td>\n",
       "      <td>0.0</td>\n",
       "    </tr>\n",
       "    <tr>\n",
       "      <th>848</th>\n",
       "      <td>0.646632</td>\n",
       "      <td>0.0</td>\n",
       "      <td>0.023094</td>\n",
       "      <td>0.762102</td>\n",
       "      <td>1</td>\n",
       "      <td>0.0</td>\n",
       "      <td>1.0</td>\n",
       "      <td>0.0</td>\n",
       "      <td>0.0</td>\n",
       "      <td>0.0</td>\n",
       "      <td>1.0</td>\n",
       "      <td>0.023094</td>\n",
       "      <td>0</td>\n",
       "      <td>0.0</td>\n",
       "    </tr>\n",
       "    <tr>\n",
       "      <th>648</th>\n",
       "      <td>0.967741</td>\n",
       "      <td>0.0</td>\n",
       "      <td>0.000000</td>\n",
       "      <td>0.251946</td>\n",
       "      <td>1</td>\n",
       "      <td>1.0</td>\n",
       "      <td>0.0</td>\n",
       "      <td>0.0</td>\n",
       "      <td>0.0</td>\n",
       "      <td>0.0</td>\n",
       "      <td>1.0</td>\n",
       "      <td>0.000000</td>\n",
       "      <td>0</td>\n",
       "      <td>0.0</td>\n",
       "    </tr>\n",
       "    <tr>\n",
       "      <th>381</th>\n",
       "      <td>0.062402</td>\n",
       "      <td>0.0</td>\n",
       "      <td>0.124805</td>\n",
       "      <td>0.982320</td>\n",
       "      <td>0</td>\n",
       "      <td>1.0</td>\n",
       "      <td>0.0</td>\n",
       "      <td>0.0</td>\n",
       "      <td>1.0</td>\n",
       "      <td>0.0</td>\n",
       "      <td>0.0</td>\n",
       "      <td>0.124805</td>\n",
       "      <td>1</td>\n",
       "      <td>1.0</td>\n",
       "    </tr>\n",
       "    <tr>\n",
       "      <th>...</th>\n",
       "      <td>...</td>\n",
       "      <td>...</td>\n",
       "      <td>...</td>\n",
       "      <td>...</td>\n",
       "      <td>...</td>\n",
       "      <td>...</td>\n",
       "      <td>...</td>\n",
       "      <td>...</td>\n",
       "      <td>...</td>\n",
       "      <td>...</td>\n",
       "      <td>...</td>\n",
       "      <td>...</td>\n",
       "      <td>...</td>\n",
       "      <td>...</td>\n",
       "    </tr>\n",
       "    <tr>\n",
       "      <th>521</th>\n",
       "      <td>0.941217</td>\n",
       "      <td>0.0</td>\n",
       "      <td>0.000000</td>\n",
       "      <td>0.337803</td>\n",
       "      <td>1</td>\n",
       "      <td>1.0</td>\n",
       "      <td>0.0</td>\n",
       "      <td>0.0</td>\n",
       "      <td>0.0</td>\n",
       "      <td>0.0</td>\n",
       "      <td>1.0</td>\n",
       "      <td>0.000000</td>\n",
       "      <td>0</td>\n",
       "      <td>0.0</td>\n",
       "    </tr>\n",
       "    <tr>\n",
       "      <th>105</th>\n",
       "      <td>0.962464</td>\n",
       "      <td>0.0</td>\n",
       "      <td>0.000000</td>\n",
       "      <td>0.271408</td>\n",
       "      <td>1</td>\n",
       "      <td>1.0</td>\n",
       "      <td>0.0</td>\n",
       "      <td>0.0</td>\n",
       "      <td>0.0</td>\n",
       "      <td>0.0</td>\n",
       "      <td>1.0</td>\n",
       "      <td>0.000000</td>\n",
       "      <td>0</td>\n",
       "      <td>0.0</td>\n",
       "    </tr>\n",
       "    <tr>\n",
       "      <th>282</th>\n",
       "      <td>0.859855</td>\n",
       "      <td>0.0</td>\n",
       "      <td>0.000000</td>\n",
       "      <td>0.510539</td>\n",
       "      <td>1</td>\n",
       "      <td>1.0</td>\n",
       "      <td>0.0</td>\n",
       "      <td>0.0</td>\n",
       "      <td>0.0</td>\n",
       "      <td>0.0</td>\n",
       "      <td>1.0</td>\n",
       "      <td>0.000000</td>\n",
       "      <td>0</td>\n",
       "      <td>0.0</td>\n",
       "    </tr>\n",
       "    <tr>\n",
       "      <th>701</th>\n",
       "      <td>0.799589</td>\n",
       "      <td>0.0</td>\n",
       "      <td>0.000000</td>\n",
       "      <td>0.600548</td>\n",
       "      <td>1</td>\n",
       "      <td>0.0</td>\n",
       "      <td>0.0</td>\n",
       "      <td>1.0</td>\n",
       "      <td>0.0</td>\n",
       "      <td>0.0</td>\n",
       "      <td>1.0</td>\n",
       "      <td>0.000000</td>\n",
       "      <td>1</td>\n",
       "      <td>0.0</td>\n",
       "    </tr>\n",
       "    <tr>\n",
       "      <th>887</th>\n",
       "      <td>0.535052</td>\n",
       "      <td>0.0</td>\n",
       "      <td>0.000000</td>\n",
       "      <td>0.844819</td>\n",
       "      <td>0</td>\n",
       "      <td>0.0</td>\n",
       "      <td>0.0</td>\n",
       "      <td>1.0</td>\n",
       "      <td>0.0</td>\n",
       "      <td>0.0</td>\n",
       "      <td>1.0</td>\n",
       "      <td>0.000000</td>\n",
       "      <td>1</td>\n",
       "      <td>1.0</td>\n",
       "    </tr>\n",
       "  </tbody>\n",
       "</table>\n",
       "<p>178 rows × 14 columns</p>\n",
       "</div>"
      ],
      "text/plain": [
       "          Age  SibSp     Parch      Fare  passenger_sex  Low_class  Mid_class  \\\n",
       "630  0.936329    0.0  0.000000  0.351123              1        0.0        0.0   \n",
       "640  0.930798    0.0  0.000000  0.365534              1        1.0        0.0   \n",
       "848  0.646632    0.0  0.023094  0.762102              1        0.0        1.0   \n",
       "648  0.967741    0.0  0.000000  0.251946              1        1.0        0.0   \n",
       "381  0.062402    0.0  0.124805  0.982320              0        1.0        0.0   \n",
       "..        ...    ...       ...       ...            ...        ...        ...   \n",
       "521  0.941217    0.0  0.000000  0.337803              1        1.0        0.0   \n",
       "105  0.962464    0.0  0.000000  0.271408              1        1.0        0.0   \n",
       "282  0.859855    0.0  0.000000  0.510539              1        1.0        0.0   \n",
       "701  0.799589    0.0  0.000000  0.600548              1        0.0        0.0   \n",
       "887  0.535052    0.0  0.000000  0.844819              0        0.0        0.0   \n",
       "\n",
       "     Upp_class  Emb_C  Emb_Q  Emb_S  MiembrosFam  passenger_survived  survived  \n",
       "630        1.0    0.0    0.0    1.0     0.000000                   1       0.0  \n",
       "640        0.0    0.0    0.0    1.0     0.000000                   0       0.0  \n",
       "848        0.0    0.0    0.0    1.0     0.023094                   0       0.0  \n",
       "648        0.0    0.0    0.0    1.0     0.000000                   0       0.0  \n",
       "381        0.0    1.0    0.0    0.0     0.124805                   1       1.0  \n",
       "..         ...    ...    ...    ...          ...                 ...       ...  \n",
       "521        0.0    0.0    0.0    1.0     0.000000                   0       0.0  \n",
       "105        0.0    0.0    0.0    1.0     0.000000                   0       0.0  \n",
       "282        0.0    0.0    0.0    1.0     0.000000                   0       0.0  \n",
       "701        1.0    0.0    0.0    1.0     0.000000                   1       0.0  \n",
       "887        1.0    0.0    0.0    1.0     0.000000                   1       1.0  \n",
       "\n",
       "[178 rows x 14 columns]"
      ]
     },
     "execution_count": 81,
     "metadata": {},
     "output_type": "execute_result"
    }
   ],
   "source": [
    "titanic_pred = x_test\n",
    "titanic_pred.drop(columns = \"survived\")\n",
    "titanic_pred"
   ]
  },
  {
   "cell_type": "markdown",
   "id": "outdoor-coach",
   "metadata": {},
   "source": [
    "### Nivel de exactitud logrado en el modelo"
   ]
  },
  {
   "cell_type": "code",
   "execution_count": 82,
   "id": "narrow-alignment",
   "metadata": {},
   "outputs": [
    {
     "data": {
      "text/plain": [
       "0.797752808988764"
      ]
     },
     "execution_count": 82,
     "metadata": {},
     "output_type": "execute_result"
    }
   ],
   "source": [
    "np.mean(predicciones == y_test)"
   ]
  },
  {
   "cell_type": "markdown",
   "id": "geographic-adjustment",
   "metadata": {},
   "source": [
    "### Resumen de Métricas"
   ]
  },
  {
   "cell_type": "code",
   "execution_count": 83,
   "id": "driving-yahoo",
   "metadata": {},
   "outputs": [],
   "source": [
    "from sklearn import metrics\n",
    "\n",
    "accuracy = metrics.accuracy_score(predicciones, y_test)\n",
    "precision = metrics.precision_score(predicciones, y_test)\n",
    "recall = metrics.recall_score(predicciones, y_test)\n",
    "f1score = metrics.f1_score(predicciones, y_test)\n",
    "error = 1 - accuracy"
   ]
  },
  {
   "cell_type": "code",
   "execution_count": 84,
   "id": "national-fence",
   "metadata": {},
   "outputs": [],
   "source": [
    "values = [accuracy, precision, recall, f1score, error]\n",
    "\n",
    "metricas = pd.DataFrame({'values':values}, index = ['accuracy', 'precision', 'recall', 'f1_score', 'error'])"
   ]
  },
  {
   "cell_type": "code",
   "execution_count": 85,
   "id": "verbal-bolivia",
   "metadata": {},
   "outputs": [
    {
     "data": {
      "text/html": [
       "<div>\n",
       "<style scoped>\n",
       "    .dataframe tbody tr th:only-of-type {\n",
       "        vertical-align: middle;\n",
       "    }\n",
       "\n",
       "    .dataframe tbody tr th {\n",
       "        vertical-align: top;\n",
       "    }\n",
       "\n",
       "    .dataframe thead th {\n",
       "        text-align: right;\n",
       "    }\n",
       "</style>\n",
       "<table border=\"1\" class=\"dataframe\">\n",
       "  <thead>\n",
       "    <tr style=\"text-align: right;\">\n",
       "      <th></th>\n",
       "      <th>values</th>\n",
       "    </tr>\n",
       "  </thead>\n",
       "  <tbody>\n",
       "    <tr>\n",
       "      <th>accuracy</th>\n",
       "      <td>0.797753</td>\n",
       "    </tr>\n",
       "    <tr>\n",
       "      <th>precision</th>\n",
       "      <td>0.553571</td>\n",
       "    </tr>\n",
       "    <tr>\n",
       "      <th>recall</th>\n",
       "      <td>0.738095</td>\n",
       "    </tr>\n",
       "    <tr>\n",
       "      <th>f1_score</th>\n",
       "      <td>0.632653</td>\n",
       "    </tr>\n",
       "    <tr>\n",
       "      <th>error</th>\n",
       "      <td>0.202247</td>\n",
       "    </tr>\n",
       "  </tbody>\n",
       "</table>\n",
       "</div>"
      ],
      "text/plain": [
       "             values\n",
       "accuracy   0.797753\n",
       "precision  0.553571\n",
       "recall     0.738095\n",
       "f1_score   0.632653\n",
       "error      0.202247"
      ]
     },
     "execution_count": 85,
     "metadata": {},
     "output_type": "execute_result"
    }
   ],
   "source": [
    "metricas"
   ]
  },
  {
   "cell_type": "markdown",
   "id": "appropriate-constant",
   "metadata": {},
   "source": [
    "## Conclusiones"
   ]
  },
  {
   "cell_type": "markdown",
   "id": "coordinated-reconstruction",
   "metadata": {},
   "source": [
    "* Los modelos por si solos que se utilizaron en el ensamble, no obtuvieron los resultados de evaluacón deseados, pero la combinación de todos si aportó una mejor predicción.\n",
    "* El modelo creado a partir del ensamble nos dió un accuracy del 0.797753, por lo que se interpreta que es un buen porcentaje de probabilidad de predecir los sobrevivientes de Titanic.\n",
    "* La dificultad de interpretar este proyecto fue alto, en la interpretacion y codificación de cada modelo ensamblado , pero con buena experiencia de saber que se pueden combinar con la finalidad de obtener una mejor predicción del modelo.\n",
    "* Encontrar diferentes tipos de datos faltantes o de categorías, hace pensar en cuál será la mejor manera de Featurinn Engineering a utilizar, ya esto es impacta directamente en el resto del proceso de la estimación y predicción del modelo, por lo que convierte en un paso importantísimo de realizar."
   ]
  },
  {
   "cell_type": "markdown",
   "id": "limited-spirituality",
   "metadata": {},
   "source": [
    "## Recomendaciones"
   ]
  },
  {
   "cell_type": "markdown",
   "id": "hungry-shepherd",
   "metadata": {},
   "source": [
    "* Evaluar y analizar los set de datos que se van a procesar y aplicar el Feature Engineering adecuado las veces que sea nececario para tener datos estandarizados antes de inicar el proceso de entrenamiento.\n",
    "* El tamaño del data set impacta en la decisión de qué tamaño de set se utilzará para el entrenamiento y las pruebas.\n",
    "* Saber bien las características de cada modelo y así maximizar lo que cada resultado en el uso del modelo puede aportar a la predicción final.\n",
    "* Para mi ha sido un proyecto muy complicado pero que resume mucho del contenido del curso que fue muy teórico, por lo que hubo mucha investigación de cómo poder poner en práctica lo visto en clase.\n"
   ]
  },
  {
   "cell_type": "markdown",
   "id": "korean-valuation",
   "metadata": {},
   "source": [
    "## K-Fold, la Validación Cruzada"
   ]
  },
  {
   "cell_type": "markdown",
   "id": "decreased-musical",
   "metadata": {},
   "source": [
    "La validación cruzada es una técnica o procedimiento para poder evaluar los resultados de modelos de aprendizaje automático con un set limitado de datos y garantizar la independencia entre los datos de entrenamiento (train) y los de prueba (test). Es muy utilizado en la predicción de modelos donde se quiere tener una precisión de modelos que se utilizarán en la práctica.\n",
    "    \n",
    "Esta técnica tiene un solo parámetro llamado ***k*** el cual es el número de grupos en los que estara divido la muestra de los datos.\n",
    "\n",
    "   Es un procedimiento popular por la facilidad de entenderlo y porque da como resultado una estimación menos sesgada de los datos obtenida de dividir el set de entrenamiento dentro del set de prueba.\n",
    "   \n",
    "Generalmente los pasos a seguir para su realizacción son:\n",
    "    1. Mezclar aleatoriamente el conjunto de datos\n",
    "    2. Dividir en k grupos el conjunto de datos\n",
    "    3. En cada grupo:\n",
    "        3.1 Tomar el grupo como de pruebas\n",
    "        3.2 Los demás grupos son de entrenamiento\n",
    "        3.3 Ajuste el modelo en el set de entrenamiento y evaluarlo con el set de pruebas\n",
    "        3.4 Obtener y conservar la puntuación de la evaluación y descartar el modelo\n",
    "    4. Sumarizar los resultados del modelo evaluado usando la muestra de la puntuación.\n",
    "    \n",
    "Este enfoque implica dividir aleatoriamente el conjunto de observaciones en k grupos, o \"folds\", de aproximadamente el mismo tamaño. El primer \"fold\" se trata como un conjunto de validación y el método se ajusta a los k - 1 \"folds\" restantes.\n",
    "\n",
    "   Es importante mencionar que se debe preparar los datos de entrenamiento antes de ajustar el modelo en el set de datos completo, ya que si no realiza esto se pueden producir fuga de datos y una estimación muy optimista del modelo resultante.\n",
    "    \n",
    "Los resultados de la ejecución del método cruzado o K-Fold se resumen en la sumatoria de la media de las puntuaciones del modelo. Es una buena práctica incluir la variación de la puntuación de las habilidades encontradas del modelo, como la desviacipn estándar o el error estándar."
   ]
  }
 ],
 "metadata": {
  "kernelspec": {
   "display_name": "Python 3",
   "language": "python",
   "name": "python3"
  },
  "language_info": {
   "codemirror_mode": {
    "name": "ipython",
    "version": 3
   },
   "file_extension": ".py",
   "mimetype": "text/x-python",
   "name": "python",
   "nbconvert_exporter": "python",
   "pygments_lexer": "ipython3",
   "version": "3.8.5"
  }
 },
 "nbformat": 4,
 "nbformat_minor": 5
}
